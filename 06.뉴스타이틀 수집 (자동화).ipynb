{
 "cells": [
  {
   "cell_type": "code",
   "execution_count": 2,
   "id": "423519b3",
   "metadata": {},
   "outputs": [],
   "source": [
    "from selenium import webdriver as wb\n",
    "from selenium.webdriver.common.by import By\n",
    "from selenium.webdriver.common.keys import Keys\n",
    "import time"
   ]
  },
  {
   "cell_type": "code",
   "execution_count": null,
   "id": "d6254e51",
   "metadata": {},
   "outputs": [],
   "source": [
    "# time.sleep 쓰는 이유 : 사람처럼 보이기 위해서 == 기계는 너무 빠름\n",
    "                    ##   서버 요청이 일어날 때 사용"
   ]
  },
  {
   "cell_type": "code",
   "execution_count": 68,
   "id": "600fa5b1",
   "metadata": {},
   "outputs": [],
   "source": [
    "# 1. 크롬 브라우저를 실행\n",
    "# 1.1 네이버 메인으로 이동 \n",
    "driver = wb.Chrome()"
   ]
  },
  {
   "cell_type": "code",
   "execution_count": 69,
   "id": "afa2bb5f",
   "metadata": {},
   "outputs": [],
   "source": [
    "driver.get(\"http:/www.naver.com\")"
   ]
  },
  {
   "cell_type": "code",
   "execution_count": 70,
   "id": "09fb0e24",
   "metadata": {},
   "outputs": [],
   "source": [
    "search = driver.find_element(By.ID,\"query\")"
   ]
  },
  {
   "cell_type": "code",
   "execution_count": 71,
   "id": "986caa47",
   "metadata": {},
   "outputs": [],
   "source": [
    "search.send_keys(\"더킹\")"
   ]
  },
  {
   "cell_type": "code",
   "execution_count": 72,
   "id": "e734e374",
   "metadata": {},
   "outputs": [],
   "source": [
    "search.send_keys(Keys.ENTER)"
   ]
  },
  {
   "cell_type": "code",
   "execution_count": 73,
   "id": "a379da17",
   "metadata": {},
   "outputs": [],
   "source": [
    "# 뉴스 탭을 클릭\n",
    "tab = driver.find_element(By.CSS_SELECTOR, \"#lnb > div.lnb_group > div > ul > li:nth-child(8) > a\")\n",
    "tab.click()"
   ]
  },
  {
   "cell_type": "code",
   "execution_count": 80,
   "id": "1eeb592c",
   "metadata": {
    "scrolled": true
   },
   "outputs": [
    {
     "data": {
      "text/plain": [
       "[<selenium.webdriver.remote.webelement.WebElement (session=\"013df15bdc41ce82437dd3c7c8cb80ae\", element=\"A926B694553721338F15AB15AF0CCEB2_element_264\")>,\n",
       " <selenium.webdriver.remote.webelement.WebElement (session=\"013df15bdc41ce82437dd3c7c8cb80ae\", element=\"A926B694553721338F15AB15AF0CCEB2_element_265\")>,\n",
       " <selenium.webdriver.remote.webelement.WebElement (session=\"013df15bdc41ce82437dd3c7c8cb80ae\", element=\"A926B694553721338F15AB15AF0CCEB2_element_266\")>,\n",
       " <selenium.webdriver.remote.webelement.WebElement (session=\"013df15bdc41ce82437dd3c7c8cb80ae\", element=\"A926B694553721338F15AB15AF0CCEB2_element_267\")>,\n",
       " <selenium.webdriver.remote.webelement.WebElement (session=\"013df15bdc41ce82437dd3c7c8cb80ae\", element=\"A926B694553721338F15AB15AF0CCEB2_element_268\")>,\n",
       " <selenium.webdriver.remote.webelement.WebElement (session=\"013df15bdc41ce82437dd3c7c8cb80ae\", element=\"A926B694553721338F15AB15AF0CCEB2_element_269\")>,\n",
       " <selenium.webdriver.remote.webelement.WebElement (session=\"013df15bdc41ce82437dd3c7c8cb80ae\", element=\"A926B694553721338F15AB15AF0CCEB2_element_270\")>,\n",
       " <selenium.webdriver.remote.webelement.WebElement (session=\"013df15bdc41ce82437dd3c7c8cb80ae\", element=\"A926B694553721338F15AB15AF0CCEB2_element_271\")>,\n",
       " <selenium.webdriver.remote.webelement.WebElement (session=\"013df15bdc41ce82437dd3c7c8cb80ae\", element=\"A926B694553721338F15AB15AF0CCEB2_element_272\")>,\n",
       " <selenium.webdriver.remote.webelement.WebElement (session=\"013df15bdc41ce82437dd3c7c8cb80ae\", element=\"A926B694553721338F15AB15AF0CCEB2_element_273\")>,\n",
       " <selenium.webdriver.remote.webelement.WebElement (session=\"013df15bdc41ce82437dd3c7c8cb80ae\", element=\"A926B694553721338F15AB15AF0CCEB2_element_274\")>,\n",
       " <selenium.webdriver.remote.webelement.WebElement (session=\"013df15bdc41ce82437dd3c7c8cb80ae\", element=\"A926B694553721338F15AB15AF0CCEB2_element_275\")>,\n",
       " <selenium.webdriver.remote.webelement.WebElement (session=\"013df15bdc41ce82437dd3c7c8cb80ae\", element=\"A926B694553721338F15AB15AF0CCEB2_element_276\")>,\n",
       " <selenium.webdriver.remote.webelement.WebElement (session=\"013df15bdc41ce82437dd3c7c8cb80ae\", element=\"A926B694553721338F15AB15AF0CCEB2_element_277\")>,\n",
       " <selenium.webdriver.remote.webelement.WebElement (session=\"013df15bdc41ce82437dd3c7c8cb80ae\", element=\"A926B694553721338F15AB15AF0CCEB2_element_278\")>,\n",
       " <selenium.webdriver.remote.webelement.WebElement (session=\"013df15bdc41ce82437dd3c7c8cb80ae\", element=\"A926B694553721338F15AB15AF0CCEB2_element_279\")>,\n",
       " <selenium.webdriver.remote.webelement.WebElement (session=\"013df15bdc41ce82437dd3c7c8cb80ae\", element=\"A926B694553721338F15AB15AF0CCEB2_element_280\")>,\n",
       " <selenium.webdriver.remote.webelement.WebElement (session=\"013df15bdc41ce82437dd3c7c8cb80ae\", element=\"A926B694553721338F15AB15AF0CCEB2_element_281\")>,\n",
       " <selenium.webdriver.remote.webelement.WebElement (session=\"013df15bdc41ce82437dd3c7c8cb80ae\", element=\"A926B694553721338F15AB15AF0CCEB2_element_282\")>,\n",
       " <selenium.webdriver.remote.webelement.WebElement (session=\"013df15bdc41ce82437dd3c7c8cb80ae\", element=\"A926B694553721338F15AB15AF0CCEB2_element_283\")>,\n",
       " <selenium.webdriver.remote.webelement.WebElement (session=\"013df15bdc41ce82437dd3c7c8cb80ae\", element=\"A926B694553721338F15AB15AF0CCEB2_element_284\")>,\n",
       " <selenium.webdriver.remote.webelement.WebElement (session=\"013df15bdc41ce82437dd3c7c8cb80ae\", element=\"A926B694553721338F15AB15AF0CCEB2_element_285\")>,\n",
       " <selenium.webdriver.remote.webelement.WebElement (session=\"013df15bdc41ce82437dd3c7c8cb80ae\", element=\"A926B694553721338F15AB15AF0CCEB2_element_286\")>,\n",
       " <selenium.webdriver.remote.webelement.WebElement (session=\"013df15bdc41ce82437dd3c7c8cb80ae\", element=\"A926B694553721338F15AB15AF0CCEB2_element_287\")>,\n",
       " <selenium.webdriver.remote.webelement.WebElement (session=\"013df15bdc41ce82437dd3c7c8cb80ae\", element=\"A926B694553721338F15AB15AF0CCEB2_element_288\")>,\n",
       " <selenium.webdriver.remote.webelement.WebElement (session=\"013df15bdc41ce82437dd3c7c8cb80ae\", element=\"A926B694553721338F15AB15AF0CCEB2_element_289\")>,\n",
       " <selenium.webdriver.remote.webelement.WebElement (session=\"013df15bdc41ce82437dd3c7c8cb80ae\", element=\"A926B694553721338F15AB15AF0CCEB2_element_290\")>,\n",
       " <selenium.webdriver.remote.webelement.WebElement (session=\"013df15bdc41ce82437dd3c7c8cb80ae\", element=\"A926B694553721338F15AB15AF0CCEB2_element_291\")>,\n",
       " <selenium.webdriver.remote.webelement.WebElement (session=\"013df15bdc41ce82437dd3c7c8cb80ae\", element=\"A926B694553721338F15AB15AF0CCEB2_element_107\")>,\n",
       " <selenium.webdriver.remote.webelement.WebElement (session=\"013df15bdc41ce82437dd3c7c8cb80ae\", element=\"A926B694553721338F15AB15AF0CCEB2_element_254\")>,\n",
       " <selenium.webdriver.remote.webelement.WebElement (session=\"013df15bdc41ce82437dd3c7c8cb80ae\", element=\"A926B694553721338F15AB15AF0CCEB2_element_292\")>,\n",
       " <selenium.webdriver.remote.webelement.WebElement (session=\"013df15bdc41ce82437dd3c7c8cb80ae\", element=\"A926B694553721338F15AB15AF0CCEB2_element_293\")>,\n",
       " <selenium.webdriver.remote.webelement.WebElement (session=\"013df15bdc41ce82437dd3c7c8cb80ae\", element=\"A926B694553721338F15AB15AF0CCEB2_element_294\")>,\n",
       " <selenium.webdriver.remote.webelement.WebElement (session=\"013df15bdc41ce82437dd3c7c8cb80ae\", element=\"A926B694553721338F15AB15AF0CCEB2_element_295\")>,\n",
       " <selenium.webdriver.remote.webelement.WebElement (session=\"013df15bdc41ce82437dd3c7c8cb80ae\", element=\"A926B694553721338F15AB15AF0CCEB2_element_296\")>,\n",
       " <selenium.webdriver.remote.webelement.WebElement (session=\"013df15bdc41ce82437dd3c7c8cb80ae\", element=\"A926B694553721338F15AB15AF0CCEB2_element_297\")>,\n",
       " <selenium.webdriver.remote.webelement.WebElement (session=\"013df15bdc41ce82437dd3c7c8cb80ae\", element=\"A926B694553721338F15AB15AF0CCEB2_element_298\")>,\n",
       " <selenium.webdriver.remote.webelement.WebElement (session=\"013df15bdc41ce82437dd3c7c8cb80ae\", element=\"A926B694553721338F15AB15AF0CCEB2_element_299\")>]"
      ]
     },
     "execution_count": 80,
     "metadata": {},
     "output_type": "execute_result"
    }
   ],
   "source": [
    "# 뉴스 타이틀을 수집\n",
    "news = driver.find_elements(By.CSS_SELECTOR, \"li > div > div > a\")\n",
    "news"
   ]
  },
  {
   "cell_type": "code",
   "execution_count": 35,
   "id": "54fdc19a",
   "metadata": {},
   "outputs": [],
   "source": [
    "# 다음버튼 클릭\n",
    "btn = driver.find_element(By.CSS_SELECTOR, \"a.btn_next\")\n",
    "btn.click()"
   ]
  },
  {
   "cell_type": "code",
   "execution_count": null,
   "id": "8e830f85",
   "metadata": {},
   "outputs": [],
   "source": [
    "# driver.implicitly_wait(10) : 컴퓨터에서 다 불러온 것 같으면 실행하는 \n",
    "                        #      time,sleep과 비슷한 코드"
   ]
  },
  {
   "cell_type": "code",
   "execution_count": 89,
   "id": "e95ed48d",
   "metadata": {},
   "outputs": [],
   "source": [
    "# 반복문 작성\n",
    "news_list = []\n",
    "for i in range(10): \n",
    "    news = driver.find_elements(By.CSS_SELECTOR, \"li > div.news_wrap.api_ani_send > div > a\")\n",
    "    for j in news :\n",
    "        news_list.append(j.text)\n",
    "    btn = driver.find_element(By.CSS_SELECTOR, \"a.btn_next\")\n",
    "    btn.click()\n",
    "    # time.sleep(\"초\") = 몇초동안 코드를 멈춰라!\n",
    "    # 클라이언트가 서버에게 요청을 보냈을 때 사용\n",
    "    # 응답받는 과정에 시간이 필요하기 때문에 \n",
    "    # 이미 넘겨받은 데이터(html)에서 텍스트, 내용을 추출할 때는 \n",
    "    # 필요하지 않다.\n",
    "    time.sleep(1)"
   ]
  },
  {
   "cell_type": "code",
   "execution_count": 91,
   "id": "856919ec",
   "metadata": {},
   "outputs": [
    {
     "data": {
      "text/plain": [
       "[\"미생물 음식물처리기 '블랙홀 더킹', 21일 '11번가' 시선집중 오픈\",\n",
       " '\\'경이로운 소문2\\' 무술감독 \"조병규→김히어라 호흡..이보다 더 완벽할 수 없...',\n",
       " '블랙홀더킹 음식물처리기, 11일 단독 G라이브 진행',\n",
       " \"넷마블 '킹오브파이터 올스타', 서비스 5주년 기념 업데이트 진행\",\n",
       " \"정우성, 'SNL코리아4' 뜬다…케빈 더 브라위너 깜짝 등장까지\",\n",
       " \"부활 '아랑전설', 시티 오브 더 울브스 공개\",\n",
       " '블랙홀더킹, G마켓 음식물처리기 연합전 할인 및 이벤트 진행',\n",
       " '로또 1079회 당첨번호, 1등 9명 ‘27억씩’…배출점은? 로또킹·신영슈퍼·1등...',\n",
       " \"SNK, 대전 격투 게임 '더 킹 오브 파이터즈 15' 새로운 DLC 캐릭터 '나즈드' ...\",\n",
       " '음식물분쇄기 \"블랙홀더킹\", G마켓 음식물처리기 연합전 특별 혜택 제공',\n",
       " \"'더 킹 오브 파이터즈 XV'의 세계 챔피언 가린다, 'SNK 월드 챔피언십 2023' ...\",\n",
       " '\\'밀수\\' 박정민 \"김혜수 선배 덕에 냉장고 하나 더 사야하나 생각도\"[N인터뷰]...',\n",
       " \"'SNL 코리아' 시즌4, 얼굴 천재 정우성 & 축구 천재 케빈 더 브라위너가 온다...\",\n",
       " '미생물음식물처리기 블랙홀더킹, 카카오 쇼핑 단독 프로모션 진행',\n",
       " '조인성 \"김혜수 사랑으로 꽃 피운 \\'밀수\\'·사랑하는 도경수 \\'더 문\\', 다 잘 돼...',\n",
       " '넷마블, ‘킹 오브 파이터 올스타’ 5주년 기념 이벤트 실시',\n",
       " \"SNK, '더 킹 오브 파이터즈 XIII 글로벌 매치' 2차 오픈 베타 테스트 예고......\",\n",
       " '[생활경제 이슈] 롯데칠성음료, ‘핫식스더킹 크러쉬 피치’ 출시 外',\n",
       " \"롯데칠성 '핫식스 더킹', 2023 월드 디제이 페스티벌 공식 스폰서 참여\",\n",
       " '[생활경제 이슈]‘핫식스 더킹’ 2023월드 디제이 페스티벌 공식 스폰서 참여...',\n",
       " '[생활경제 이슈] 롯데칠성음료 “핫식스 더킹” 디자인 리뉴얼 外',\n",
       " \"(종합) 캐시닥/타임스프레드/지니어트, 8일 낮 12시 현재 '블랙홀 음식물처리...\",\n",
       " \"'블랙홀더킹 음식물처리기' 캐시닥· 타임스프레드· 지니어트 용돈퀴즈 정답...\",\n",
       " '블랙홀더킹 음식물처리기, 8일 캐시닥 타임스프레드 돈버는퀴즈 정답',\n",
       " \"'더 킹', 할렘가의 욕망 [유진모 칼럼]\",\n",
       " '원진아, 이정재·정우성 소속사로 이적',\n",
       " \"[신상품] CJ제일제당 '햇반솥반X뿅뿅 지구오락실2' 기획제품, 롯데칠성음료 '...\",\n",
       " '[공식] 원진아, 아티스트컴퍼니行…정우성·이정재·박해진 한솥밥',\n",
       " '원진아, 정우성·이정재·임지연과 한솥밥…아티스트컴퍼니行',\n",
       " '원진아 전속계약, 정우성·이정재 식구됐다…아티스트컴퍼니와 체결(공식)',\n",
       " '김소진, 전종서 소속사 앤드마크 전속계약',\n",
       " '미생물음식물처리기 블랙홀더킹, 카카오 쇼핑라이브 단독 특가',\n",
       " \"넷마블, '더 킹 오브 파이터즈 올스타' EX등급 카스미, 제니 등 다양한 업데이...\",\n",
       " \"임윤아-이준호, '킹더랜드 킹갓비주얼 커플' (킹더랜드 제작발표회) [HD포토]\",\n",
       " \"'슬의생'·'지우학' 안시하, 디에이와이엔터와 전속계약\",\n",
       " \"롯데칠성, '핫식스 더킹' 리뉴얼 디자인 공개\",\n",
       " \"미생물 음식물처리기 블랙홀더킹, CJ온스타일 '잘사는 언니들' 방송 진행\",\n",
       " '핫식스 더킹, 월드 디제이 페스티벌 공식 스폰서 참여',\n",
       " \"'핫식스 더킹', 2023 월드 디제이 페스티벌 공식 스폰서 참여\",\n",
       " '롯데칠성음료 ‘핫식스 더킹’, 월드 DJ페스티벌 스폰서 참여',\n",
       " '[Y터뷰] \\'보호자\\' 정우성 \"감독 되니 현실적인 바람 생겨…손익분기점 넘겼으...',\n",
       " '넷마블, ‘더 킹 오브 파이터즈 올스타’ 업데이트 실시',\n",
       " \"넷마블, '킹 오브 파이터 올스타'에 'AS 눈부신 바다의 카스미' 등장\",\n",
       " '킹 오브 파이터 올스타, ‘AS 눈부신 바다의 카스미’ 등 신규 파이터 업데이...',\n",
       " \"넷마블, '킹 오브 파이터 올스타'에 AS 눈부신 바다의 카스미 등 추가\",\n",
       " \"넷마블, '킹 오브 파이터 올스타'에 신규 파이터 업데이트 실시\",\n",
       " \"넷마블 '킹 오브 파이터 올스타', 'AS 눈부신 바다의 카스미' 등 신규 파이터...\",\n",
       " \"넷마블, '킹 오브 파이터 올스타'에 'AS 눈부신 바다의 카스미' 등 신규 파이...\",\n",
       " '넷마블, \"킹 오브 파이터 올스타\"에 \\'AS 눈부신 바다의 카스미\\' 등 신규 파이...',\n",
       " \"넷마블, '킹오브 파이터 올스타' 업데이트…신규 파이터 추가\",\n",
       " \"롯데칠성, '핫식스 더킹' 디자인 리뉴얼\",\n",
       " \"롯데칠성음료, '핫식스 더킹' 디자인 리뉴얼 출시\",\n",
       " '롯데칠성음료 \"핫식스 더킹\" 디자인 리뉴얼',\n",
       " \"SNK '더 킹 오브 파이터즈13 GM' 6일 테스트\",\n",
       " \"넷마블, '킹 오브 파이터즈 올스타' 신규 파이터 업데이트\",\n",
       " '킹 오브 파이터 올스타, AS 눈부신 바다의 카스미 등 신규 파이터 업데이트',\n",
       " \"[인터뷰] '롱리브더킹' 완결 류경선·임규빈 “이런 나라 됐으면 하는 소망 담...\",\n",
       " '[공식] 김소진, 앤드마크와 전속 계약…백진희·전종서·진서연과 한솥밥',\n",
       " '롯데칠성음료, 핫식스 더킹 디자인 리뉴얼',\n",
       " '김소진, 앤드마크과 전속계약..전종서∙박진주와 한솥밥',\n",
       " '안시하, 디에이와이엔터와 전속계약 체결…\"최선 다해 지원할 것\"',\n",
       " '김소진, 앤드마크와 전속계약…박진주ㆍ장영남ㆍ이주빈 한솥밥',\n",
       " \"넷마블 '킹 오브 파이터 올스타'에 'AS 프리티 게닛츠' 및 'XV 카구라 치즈루...\",\n",
       " \"넷마블 '킹 오브 파이터 올스타'...'AS 프리티 게닛츠' 및 'XV 카구라 치즈루...\",\n",
       " \"넷마블 '킹 오브 파이터 올스타' 신규 캐릭터 2종 추가\",\n",
       " \"킹 오브 파이터 올스타, 신규 파이터 'AS 프리티 게닛츠' 'XV 카구라 치즈루'...\",\n",
       " '음식물처리기 블랙홀더킹, G마켓과 사전 관심고객 등록 이벤트 진행',\n",
       " '음식물분쇄기 블랙홀더킹XG마켓 이벤트 진행',\n",
       " '블랙홀더킹 음식물처리기, 2023 코엑스 코베 베이비페어 참여',\n",
       " \"미생물 음식물처리기 '블랙홀더킹' 코엑스 코베 베이비페어 참여\",\n",
       " \"넷마블 '킹 오브 파이터 올스타', AS 프리티 게닛츠·XV 카구라 치즈루 업데이...\",\n",
       " \"넷마블, '킹 오브 파이터 올스타' 업데이트 진행\",\n",
       " \"킹 오브 파이터 올스타, 'AS 프리티 게닛츠' 및 'XV 카구라 치즈루' 추가\",\n",
       " \"'킹 오브 파이터 올스타', AS 프리티 게닛츠 및 XV 카구라 치즈루 추가\",\n",
       " '킹 오브 파이터 올스타, 신규 파이터 나왔다',\n",
       " '김소진, 앤드마크와 전속계약..장영남·김혜준·전종서와 한솥밥(공식)',\n",
       " \"'경소문2' 8회·12회에 역대급 액션신 나온다\",\n",
       " '김소진, 앤드마크 합류…류덕환, 박진주, 진서연 등과 한솥밥',\n",
       " \"넷마블 '킹오브 파이터즈 올스타' 새 캐릭터 선봬\",\n",
       " '더 킹 오브 파이터즈 올스타, 콜라보 돌입',\n",
       " '블랙홀더킹 음식물처리기, 15일 봄맞이 네이버 쇼핑라이브 특집 방송 진행',\n",
       " '[오늘의 업데이트]안녕 엘라·킹오브파이터올스타·블레이드&소울레볼루션',\n",
       " \"'킹 오브 파이터 올스타'에 ‘버추어 파이터 5 파이널 쇼다운’ 컬래버 업데이...\",\n",
       " \"넷마블, '킹 오브 파이터 올스타'에 '버추어 파이터 5 파이널 쇼다운' 콜라보...\",\n",
       " \"넷마블, '킹 오브 파이터 올스타'에 '버추어 파이터 5 파이널 쇼다운' 콜라보...\",\n",
       " \"넷마블, 킹 오브 파이터 올스타에 '버추어 파이터 5 파이널 쇼다운' 콜라보 업...\",\n",
       " '[포토] 정우성, 아수라 현장 잘생김 더 킹',\n",
       " '1079회 로또 1등 27억1천만원…자동 4건·수동5건(종합)',\n",
       " '블랙홀더킹 음식물처리기, 8일 오퀴즈 정답',\n",
       " \"안시하, 디에이와이와 전속계약…'새로운 시작'\",\n",
       " '데이브 더 다이버 리뷰',\n",
       " '문준기 마브렉스 본부장 \"블록체인 게임, 사용법 더 쉬워져야\"',\n",
       " '액션 맛집 ‘경소문2’ 이끈 박영식 무술감독…“가장 중점 둔 부분은 염력”',\n",
       " '원진아, 아티스트컴퍼니와 전속계약…정우성·이정재와 한솥밥',\n",
       " '독립운동가 후손 배우 한수연, 광복절 시구 나서',\n",
       " \"'믿보배' 김소진, 앤드마크와 전속계약…전종서·백진희·진서연과 한솥밥 [공...\",\n",
       " \"넷마블, '킹 오브 파이터 올스타' 신규 파이터 'XV 시라누이 마이' 추가\",\n",
       " \"블핑 리사, 세계 팔로워 리치리스트 '26위' 등극...송혜교는 93위\",\n",
       " \"'킹 오브 파이터 올스타', 신규 파이터 'XV 시라누이 마이'·'XV 쿨라 다이아...\",\n",
       " '원진아, 아티스트컴퍼니와 전속계약 체결']"
      ]
     },
     "execution_count": 91,
     "metadata": {},
     "output_type": "execute_result"
    }
   ],
   "source": [
    "news_list"
   ]
  }
 ],
 "metadata": {
  "kernelspec": {
   "display_name": "Python 3 (ipykernel)",
   "language": "python",
   "name": "python3"
  },
  "language_info": {
   "codemirror_mode": {
    "name": "ipython",
    "version": 3
   },
   "file_extension": ".py",
   "mimetype": "text/x-python",
   "name": "python",
   "nbconvert_exporter": "python",
   "pygments_lexer": "ipython3",
   "version": "3.11.3"
  }
 },
 "nbformat": 4,
 "nbformat_minor": 5
}
