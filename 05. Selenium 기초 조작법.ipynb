{
 "cells": [
  {
   "cell_type": "code",
   "execution_count": 1,
   "id": "83899fb7",
   "metadata": {},
   "outputs": [],
   "source": [
    "# selenium 라이브러리 설치 \n",
    "!pip install selenium"
   ]
  },
  {
   "cell_type": "code",
   "execution_count": 62,
   "id": "e9c8f4bd",
   "metadata": {},
   "outputs": [],
   "source": [
    "# 컴퓨터용 크롬드라이버 설치 \n",
    "# 주의점: 반드시 내가 사용 중인 크롬과 같은 버전을 설치 \n",
    "# 현재 작업 중인 폴더에 파일을 넣어준다."
   ]
  },
  {
   "cell_type": "code",
   "execution_count": 63,
   "id": "9f0fb72f",
   "metadata": {},
   "outputs": [],
   "source": [
    "# 1. 크롬창을 실행\n",
    "# wb.Chrom() -> 크롬창을 실행하는 명령\n",
    "# 매개변수 -> 크롬드라이버의 위치(경로)를 작성 \n",
    "# 작성하지 않아도 되는 이유는\n",
    "# -> 현재 작업중인 파일과 드라이버가 같은경로면 작성하지 않아도 된다."
   ]
  },
  {
   "cell_type": "code",
   "execution_count": 1,
   "id": "ae0f24c8",
   "metadata": {},
   "outputs": [],
   "source": [
    "# 라이브러리 호출\n",
    "# webdriver = 크롬창 역할을 해준다.\n",
    "from selenium import webdriver as wb\n",
    "# 컴퓨터용 키보드 라이브러리 \n",
    "from selenium.webdriver.common.keys import Keys\n",
    "# 크롬드라이버 최신버전 설치하는 방법\n",
    "# webdriver_manager 설치 반드시 한 번 필요\n",
    "# !pip install webdriver_manager\n",
    "from selenium.webdriver.chrome.service import Service\n",
    "from webdriver_manager.chrome import ChromeDriverManager\n",
    "# 선택자를 구분지어주는 라이브러리 \n",
    "from selenium.webdriver.common.by import By"
   ]
  },
  {
   "cell_type": "code",
   "execution_count": 2,
   "id": "a5eb1fde",
   "metadata": {},
   "outputs": [],
   "source": [
    "driver = wb.Chrome(service=Service(ChromeDriverManager().install()))"
   ]
  },
  {
   "cell_type": "code",
   "execution_count": 75,
   "id": "aa1a7c6c",
   "metadata": {},
   "outputs": [
    {
     "data": {
      "text/plain": [
       "<selenium.webdriver.chrome.webdriver.WebDriver (session=\"56d8e26c0098739773e95b19b6a47193\")>"
      ]
     },
     "execution_count": 75,
     "metadata": {},
     "output_type": "execute_result"
    }
   ],
   "source": [
    "driver"
   ]
  },
  {
   "cell_type": "code",
   "execution_count": 3,
   "id": "a8454ff8",
   "metadata": {},
   "outputs": [],
   "source": [
    "# 2. 페이지를 이동 \n",
    "driver.get(\"http:/www.naver.com\")"
   ]
  },
  {
   "cell_type": "code",
   "execution_count": 4,
   "id": "ffe33ae9",
   "metadata": {},
   "outputs": [],
   "source": [
    "# 검색창 찾기\n",
    "# find_element() -> 필요한 요소를 찾는 명령\n",
    "# find_elements() -> 복수개의 요소를 찾는 명령\n",
    "search = driver.find_element(By.ID,\"query\")"
   ]
  },
  {
   "cell_type": "code",
   "execution_count": 5,
   "id": "ddee07bc",
   "metadata": {},
   "outputs": [],
   "source": [
    "# send_keys() -> 원하는 값을 전달할 때 사용 \n",
    "search.send_keys(\"손흥민\")"
   ]
  },
  {
   "cell_type": "code",
   "execution_count": 6,
   "id": "5aeda48a",
   "metadata": {},
   "outputs": [],
   "source": [
    "# 엔터 치기 \n",
    "search.send_keys(Keys.ENTER)"
   ]
  },
  {
   "cell_type": "code",
   "execution_count": 9,
   "id": "d169fb4c",
   "metadata": {},
   "outputs": [],
   "source": [
    "# 화면 스크롤 하는 방법 \n",
    "body = driver.find_element(By.TAG_NAME,\"body\")\n",
    "body.send_keys(Keys.END)"
   ]
  },
  {
   "cell_type": "code",
   "execution_count": 10,
   "id": "e92c4bd0",
   "metadata": {
    "scrolled": true
   },
   "outputs": [],
   "source": [
    "# 페이지 뒤로가기 \n",
    "# 크롬이 가지고 있는 기능이기 때문에, 태그가 아니다!\n",
    "driver.back()"
   ]
  },
  {
   "cell_type": "code",
   "execution_count": 11,
   "id": "8e22c4b0",
   "metadata": {},
   "outputs": [],
   "source": [
    "# 다시 한 번 검색하기 \n",
    "# 화면이 깜빡거린다 > 화면 전환이 일어나면 \n",
    "# 컴퓨터는 모든 기억을 잃어버린다.\n",
    "# 반드시 요소를 다시 재검색 필요  ★★★★★ 가장 중요\n",
    "search = driver.find_element(By.ID,\"query\")\n",
    "search.send_keys(\"이강인\")"
   ]
  },
  {
   "cell_type": "code",
   "execution_count": 16,
   "id": "0ff842b9",
   "metadata": {},
   "outputs": [],
   "source": [
    "# 검색버튼을 클릭\n",
    "search_btn = driver.find_element(By.CLASS_NAME,\"btn_search\")\n",
    "search_btn.click()"
   ]
  },
  {
   "cell_type": "code",
   "execution_count": 18,
   "id": "e478999b",
   "metadata": {},
   "outputs": [],
   "source": [
    "# 창을 종료 \n",
    "# drive.close() # 창을 닫아도 메모리가 기억할 수도 있음\n",
    "driver.quit() # 권장! "
   ]
  },
  {
   "cell_type": "code",
   "execution_count": 19,
   "id": "b19b8513",
   "metadata": {},
   "outputs": [],
   "source": [
    "driver = wb.Chrome(service=Service(ChromeDriverManager().install()))"
   ]
  },
  {
   "cell_type": "code",
   "execution_count": 20,
   "id": "e8614247",
   "metadata": {},
   "outputs": [],
   "source": [
    "driver.get(\"https://search.naver.com/search.naver?where=news&sm=tab_jum&query=%EC%9D%B4%EA%B0%95%EC%9D%B8\")"
   ]
  },
  {
   "cell_type": "code",
   "execution_count": 23,
   "id": "80ee2c2a",
   "metadata": {},
   "outputs": [],
   "source": [
    "title = driver.find_elements(By.CSS_SELECTOR, \"a.news_tit\")"
   ]
  },
  {
   "cell_type": "code",
   "execution_count": 25,
   "id": "41266ecd",
   "metadata": {},
   "outputs": [
    {
     "name": "stdout",
     "output_type": "stream",
     "text": [
      "[오피셜] 이강인과 한 달 만 결별…네이마르, PSG 떠나 알 힐랄 이적→연봉 2...\n",
      "\"짧았지만 특별한 시간\"·\"다시 만나자\"…작별인사 나눈 이강인·네이마르\n",
      "사우디로 떠난 네이마르, 이강인 새 짝꿍은 음바페\n",
      "이강인 떠난 네이마르…호날두, 벤제마와 사우디판 별들의 전쟁\n",
      "이강인, PSG의 플레이메이커 맡나\n",
      "음바페, 불화 접고 PSG 복귀… 이강인과 호흡 맞출까\n",
      "음바페 복귀 여파…PSG 이강인, 미드필더로 이동하나\n",
      "PSG, 네이마르 가고 음바페 온다…이강인과 호흡 기대\n",
      "PSG, 음바페 남고 네이마르 가고...이강인에게 득일까 실일까\n",
      "음바페, PSG 1군 훈련 복귀…이강인과 호흡 맞출까\n"
     ]
    }
   ],
   "source": [
    "for i in title :\n",
    "    print(i.text)"
   ]
  },
  {
   "cell_type": "code",
   "execution_count": 28,
   "id": "c166e507",
   "metadata": {},
   "outputs": [],
   "source": [
    "btn = driver.find_element(By.CSS_SELECTOR, \"a.btn_next\")"
   ]
  },
  {
   "cell_type": "code",
   "execution_count": 30,
   "id": "982a4947",
   "metadata": {},
   "outputs": [],
   "source": [
    "btn.click()"
   ]
  },
  {
   "cell_type": "code",
   "execution_count": 35,
   "id": "277e7023",
   "metadata": {},
   "outputs": [],
   "source": [
    "import time"
   ]
  },
  {
   "cell_type": "code",
   "execution_count": 36,
   "id": "e84c15c5",
   "metadata": {},
   "outputs": [],
   "source": [
    "title_list = []\n",
    "for i in range(0,10):\n",
    "    title = driver.find_elements(By.CSS_SELECTOR, \"a.news_tit\")\n",
    "    for j in title :\n",
    "        title_list.append(j.text)\n",
    "    btn = driver.find_element(By.CSS_SELECTOR, \"a.btn_next\")\n",
    "    btn.click()\n",
    "    time.sleep(2)"
   ]
  },
  {
   "cell_type": "code",
   "execution_count": 34,
   "id": "1ba9ebe7",
   "metadata": {},
   "outputs": [
    {
     "data": {
      "text/plain": [
       "[\"'이강인한테 절해야 할 판'...마요르카, 역사상 가장 호화로운 이적시장\",\n",
       " '이강인 PSG 공식 데뷔전서 활약... “메시 공백 잘 메웠다”',\n",
       " '네이마르, 사우디 알힐랄과 2년 계약 공식 발표',\n",
       " \"이강인에게만 긴 답변…'한 달 간의 브로맨스' 네이마르, 알 힐랄 입단 후 작...\",\n",
       " '팀 위에 음바페 있다…PSG 복귀 직후 실망→\"맨시티 MF 영입이 안 된다네~\"',\n",
       " '이강인, 20일 리그앙 2R 툴루즈전에 음바페와 뛸까',\n",
       " '메시·네이마르 대체→이강인 \"충분히 메울 수 있다\"… PSG 팀 플랜 중심된다',\n",
       " \"'LEE바페 가자!' 네이마르 보내고 1군 합류한 음바페, '맨시티MF' 베실바 영입...\",\n",
       " '이강인 \"네이마르와 짧지만 특별한 시간\"→네이마르 \"나중에 또 보자 아들아\"',\n",
       " '음바페는 복귀했는데...네이마르는 사우디행, 이강인과 삼각편대 구축은 결국...',\n",
       " '음바페는 복귀했는데...네이마르는 사우디행, 이강인과 삼각편대 구축은 결국...',\n",
       " 'PSG 공식 발표… 갑자기 마음 돌린 음바페, 올시즌 이강인과 함께 뛴다',\n",
       " '[오피셜] 네이마르, 이강인과 함께 뛴 지 2주만에 헤어져...알힐랄 이적, 연봉...',\n",
       " '\"2025년 이후까지 연장?\" PSG, 음바페에 \\'판매 보장+계약 연장\\' 제안 검토......',\n",
       " \"선발로 82분 펄펄…이강인 '빛나는 데뷔전'\",\n",
       " '이강인 \\'고군분투\\' 안타까운 현지 반응 \"크로스 받을 선수가 없다\"',\n",
       " '라인 따라 공 모는 이강인',\n",
       " '이강인 떠나는 네이마르, 파리서 알 힐랄 메디컬+계약 마무리→하루 만에 사우...',\n",
       " '\"헤이 강인, 플메 되지?\" PSG 큰 그림, NO.10으로 키운다',\n",
       " '\"네이마르 떠나고 음바페 돌아왔다\"...이강인X음바페 \\'꿈의 조합\\' 뜬다',\n",
       " '\"네이마르 떠나고 음바페 돌아왔다\"...이강인X음바페 \\'꿈의 조합\\' 뜬다',\n",
       " '이강인, PSG 공식 데뷔전 MVP...리그1 \"메시 자리 훌륭히 소화\"',\n",
       " '리그1 데뷔전 치르는 이강인',\n",
       " \"재기발랄함 선보인 이강인... PSG 데뷔전 '성공적'\",\n",
       " '음바페 판정패?...1군 복귀 뒤 “PSG와 계약 연장 협상중” 구단 “잔류 확신...',\n",
       " \"'파리지앵' 이강인, PSG 데뷔전서 펄펄…팀은 로리앙과 0-0\",\n",
       " '네이마르, 이강인과 짧은 브로맨스 끝…사우디 알힐랄 이적 합의',\n",
       " '네이마르도 사우디 간다, 알 힐랄과 ‘2년-2300억’…이강인과 ‘브로맨스’ ...',\n",
       " '이강인만 남겨두고 떠난다... 네이마르, PSG 떠나 사우디 알힐랄행',\n",
       " '이강인, PSG 데뷔전서 선발 82분 활약…팀은 0-0 무승부',\n",
       " '네이마르도 사우디 간다, 알 힐랄과 ‘2년-2300억’…이강인과 ‘브로맨스’ ...',\n",
       " \"'이강인X음바페 꿈의 조합 본다' 극한갈등 속 대반전 음바페, 1군 복귀+훈련 ...\",\n",
       " '이강인만 남겨두고 떠난다... 네이마르, PSG 떠나 사우디 알힐랄행',\n",
       " '\\'PSG\\' 이강인, 리그1 데뷔전부터 MVP…\"메시 빈자리 완벽 소화\"',\n",
       " '이강인, PSG 데뷔전서 선발 82분 활약…팀은 0-0 무승부',\n",
       " \"PSG 이강인 찌르고, 음바페 넣는다→네이마르 9000만 유로에 '충격' 방출…해...\",\n",
       " \"'경기만 뛰게 해주세요'→음바페, 2200억 포기하고 PSG 훈련 복귀\",\n",
       " '\"내 아들 강인아, 나중에 또 보자\" 네이마르가 LEE에게 보낸 작별 메시지',\n",
       " 'PSG 이강인, 데뷔전 평점 7.4…\"메시의 공간을 즐겨\"(종합)',\n",
       " '\\'한 달 인연, 20분 호흡\\'...이강인, \\'알 힐랄 이적\\' 네이마르와 작별 인사 \"짧...',\n",
       " '\"내 아들 강인아, 나중에 또 보자\" 네이마르가 LEE에게 보낸 작별 메시지',\n",
       " \"'1군 복귀' 음바페, 이강인과는 딱 1년만?...PSG와 재계약설 반박 보도 등장\",\n",
       " '이강인, PSG 공식 데뷔전서 82분 활약…팀은 무승부',\n",
       " 'PSG 이강인, 데뷔전 평점 7.4…\"메시의 공간을 즐겨\"(종합)',\n",
       " '\\'한 달 인연, 20분 호흡\\'...이강인, \\'알 힐랄 이적\\' 네이마르와 작별 인사 \"짧...',\n",
       " '이강인 PSG 데뷔전부터 MVP \"멋진 경기력\" 현지도 폭풍칭찬, 전담 키커+평점 ...',\n",
       " \"[속보] '굿바이 이강인'…음바페에 '팽 당한' 네이마르, 16일 새벽 알힐랄 입...\",\n",
       " '떠나는 네이마르·돌아온 음바페… ‘슛돌이’ 미드필더로 돌아가나',\n",
       " '\"메시처럼 뛴\" 이강인, \\'드디어 복귀\\' 음바페와 PSG서 꿈의 조합 만든다... 음...',\n",
       " '이강인, 첫 경기부터 \\'MVP\\'…\"메시 빈자리 완벽 소화\"',\n",
       " '\"메시처럼 뛴\" 이강인, \\'드디어 복귀\\' 음바페와 PSG서 꿈의 조합 만든다... 음...',\n",
       " \"이강인 데뷔전서 MVP까지 품었다…'백업 자원' 현지 예상 비웃은 '환상 맹활약...\",\n",
       " '이강인, 첫 경기부터 \\'MVP\\'…\"메시 빈자리 완벽 소화\"',\n",
       " '이강인에게 빠진 PSG 팬들 “마스터 클래스이자 건전지, 네이마르보다 낫다”',\n",
       " '\"메시 자리 소화했다\" 리그앙도 인정한 이강인의 활약...LEE, 개막전 선발+평...',\n",
       " \"이강인, PSG 공식 데뷔전 성공적으로 치러...리그1 '더 플레이어'에 선정\",\n",
       " '\\'이강인 패스\\' 받을 음바페, 전격 복귀 왜?…\"PSG, 바이아웃+보너스 포기 후 ...',\n",
       " '이강인 포지션 경쟁자 등장…프랑스 윙어 뎀벨레, PSG 입단',\n",
       " '이강인과 이별 빨라지는 네이마르, 알 힐랄 이적 후 바르사 임대?… 로마노 “...',\n",
       " '벤치를 의심했던 이강인의 화려한 데뷔전',\n",
       " '이강인 향한 현지 극찬 “메시 자리 훌륭하게 소화”',\n",
       " '\"메시 자리서 뛰는 걸 즐겨\"…\\'개막전 MVP\\' 이강인, 환상 데뷔전→ \\'GOAT\\' 메...',\n",
       " \"'이강인 브로맨스' 한 여름 밤의 '꿈'...네이마르, 사우디 이적→1312억원+2년...\",\n",
       " '벤치를 의심했던 이강인의 화려한 데뷔전',\n",
       " '이강인의 PSG, 프랑스 윙어 뎀벨레 영입',\n",
       " \"'쌩쌩한 이강인+전격 복귀 음바페' 꿈의 라인업 'D-6'... '킹바페' 1군 훈련 ...\",\n",
       " '음바페, 이강인과 함께 뛴다…PSG와 갈등 풀며 훈련 복귀',\n",
       " \"'SON이랑 다르네' 네이마르, 이강인과 작별→사우디행...연봉 2200억 잭팟\",\n",
       " '손흥민→이강인 뛰고 있는 해외 축구 구단, \"광복절 축하합니다\"',\n",
       " '음바페-PSG 극적 화해…1군 훈련 복귀+MOM 이강인 함께 뛴다',\n",
       " '음바페-PSG 극적 화해…1군 훈련 복귀+MOM 이강인 함께 뛴다',\n",
       " \"'PSG' 이강인·'뮌헨' 김민재, 공식 데뷔전 합격점\",\n",
       " '로리앙전 \\'충격\\' 무승부 여파? 음바페-PSG, 동행 기류 솔솔...\"건설적 대화\"',\n",
       " '음바페는 관중석 파안대소…이강인 데뷔 PSG는 로리앙과 0-0',\n",
       " '\\'리그 1\\' 이강인 메시와 비교, \"메시 누빈 공간서 이강인 즐겼다\" 칭찬',\n",
       " \"PSG 이강인 개막전 선발 82분 '합격'...공격수 중 최고 평점\",\n",
       " \"이강인 어시스트→음바페 골…PSG '꿈의 조합', 음바페 복귀로 가동 준비 완료\",\n",
       " \"PSG '이강인 동료' 네이마르, 사우디 '알 힐랄'로 이적 임박\",\n",
       " '이강인, PSG 리그 첫경기서 ‘펄펄’ 날았다…공격수 평점 1위',\n",
       " '이강인, PSG 데뷔전 82분 소화..팀은 로리앙과 0-0 무승부',\n",
       " '이강인·김민재, ‘빅클럽 데뷔전’ 존재감 빛났다',\n",
       " '득점 없이도 빛난 이강인…PSG 데뷔전 선발 출전',\n",
       " '이강인, PSG 데뷔전 82분 소화..팀은 로리앙과 0-0 무승부',\n",
       " \"'이강인은 고군분투', 음바페 '이강인 경쟁자' 뎀벨레와 관중석서 '낄낄낄'\",\n",
       " \"음바페 복귀, 이강인에게는 '이론적으로 최상'\",\n",
       " '네이마르 보내는 PSG, 새로운 공격 조합은 음바페-이강인?',\n",
       " \"'이강인 혼자 남는다' LEE 절친 네이마르, PSG 떠나 사우디행...얼마 주길래?\",\n",
       " '[리그앙] PSG 이강인, 개막전 82분 활약... \"메시 공백 훌륭히 메워\"',\n",
       " '파리 생제르맹서 성공적 데뷔전 치르는 이강인',\n",
       " \"'메롱'만 남기고 떠난 네이마르, 알힐랄 공식 입단-2년 442,700,000,000원 특...\",\n",
       " '이강인, 데뷔전부터 \\'대박\\' 쳤다! 佛, \\'한국의 보석\\' 찬사 \"LEE 드리블, 점점...',\n",
       " \"'0-0 무승부에도' PSG 전담 키커 이강인의 성공적 데뷔전\",\n",
       " '\\'4명 얼어붙은 킬패스\\' 이강인, 데뷔전 MOM 우뚝...\"메시 자리 소화+경기 기폭...',\n",
       " \"'결국 이강인과 첫 경기가 고별전' 네이마르, 알 힐랄과 2년 계약+연봉 1460억...\",\n",
       " \"'파리지앵 이강인'이 뜬다…어수선한 PSG 구할 해결사 될까\",\n",
       " '‘전담 키커’ 이강인, 선발 데뷔전서 82분…PSG는 0-0 무승부',\n",
       " \"PSG, '이강인 잠재적 경쟁자' 뎀벨레 영입…2028년까지 계약\",\n",
       " '\"메시의 공간에서 뛰는 걸 즐겨\" 리그1도 주목한 이강인',\n",
       " \"'알힐랄 입단' 네이마르, '5800억+동거허용+전용기+대저택' 파격 혜택\",\n",
       " '손흥민·이강인·김민재·양현준·조규성... 기대와 아쉬움 속 새로운 시즌 맞...']"
      ]
     },
     "execution_count": 34,
     "metadata": {},
     "output_type": "execute_result"
    }
   ],
   "source": [
    "title_list"
   ]
  }
 ],
 "metadata": {
  "kernelspec": {
   "display_name": "Python 3 (ipykernel)",
   "language": "python",
   "name": "python3"
  },
  "language_info": {
   "codemirror_mode": {
    "name": "ipython",
    "version": 3
   },
   "file_extension": ".py",
   "mimetype": "text/x-python",
   "name": "python",
   "nbconvert_exporter": "python",
   "pygments_lexer": "ipython3",
   "version": "3.11.3"
  }
 },
 "nbformat": 4,
 "nbformat_minor": 5
}
