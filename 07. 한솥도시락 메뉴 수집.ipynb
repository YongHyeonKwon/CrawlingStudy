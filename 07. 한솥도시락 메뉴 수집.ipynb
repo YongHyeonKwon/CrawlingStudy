{
 "cells": [
  {
   "cell_type": "code",
   "execution_count": 2,
   "id": "f10e0c77",
   "metadata": {},
   "outputs": [],
   "source": [
    "from selenium import webdriver as wb\n",
    "from selenium.webdriver.common.by import By\n",
    "from selenium.webdriver.common.keys import Keys\n",
    "import time\n",
    "import pandas as pd"
   ]
  },
  {
   "cell_type": "code",
   "execution_count": 28,
   "id": "26b9667e",
   "metadata": {},
   "outputs": [],
   "source": [
    "# 한솥도시락 사이트 실행\n",
    "driver = wb.Chrome()\n",
    "driver.get(\"https://www.hsd.co.kr/menu/menu_list\")"
   ]
  },
  {
   "cell_type": "code",
   "execution_count": 12,
   "id": "f69a70c3",
   "metadata": {},
   "outputs": [],
   "source": [
    "# 상품명 수집\n",
    "title = driver.find_elements(By.CSS_SELECTOR, \".h.fz_03\")\n",
    "title"
   ]
  },
  {
   "cell_type": "code",
   "execution_count": 15,
   "id": "efbc157e",
   "metadata": {
    "scrolled": true
   },
   "outputs": [
    {
     "data": {
      "text/plain": [
       "[<selenium.webdriver.remote.webelement.WebElement (session=\"06d61e65c8610cebb22edd6f4af1d9be\", element=\"122160FAD78C9A3FAAA7156FBCFBD9C0_element_331\")>,\n",
       " <selenium.webdriver.remote.webelement.WebElement (session=\"06d61e65c8610cebb22edd6f4af1d9be\", element=\"122160FAD78C9A3FAAA7156FBCFBD9C0_element_332\")>,\n",
       " <selenium.webdriver.remote.webelement.WebElement (session=\"06d61e65c8610cebb22edd6f4af1d9be\", element=\"122160FAD78C9A3FAAA7156FBCFBD9C0_element_333\")>,\n",
       " <selenium.webdriver.remote.webelement.WebElement (session=\"06d61e65c8610cebb22edd6f4af1d9be\", element=\"122160FAD78C9A3FAAA7156FBCFBD9C0_element_334\")>]"
      ]
     },
     "execution_count": 15,
     "metadata": {},
     "output_type": "execute_result"
    }
   ],
   "source": [
    "price = driver.find_elements(By.CSS_SELECTOR, \"div.item-price > Strong\")"
   ]
  },
  {
   "cell_type": "code",
   "execution_count": 16,
   "id": "d182483c",
   "metadata": {},
   "outputs": [
    {
     "data": {
      "text/plain": [
       "18"
      ]
     },
     "execution_count": 16,
     "metadata": {},
     "output_type": "execute_result"
    }
   ],
   "source": [
    "len(title)"
   ]
  },
  {
   "cell_type": "code",
   "execution_count": 31,
   "id": "38ded2d5",
   "metadata": {},
   "outputs": [],
   "source": [
    "# 모든 데이터를 보기 위해서 더보기 버튼을 클릭\n",
    "btn = driver.find_element(By.CSS_SELECTOR, \"a.c_05\")\n",
    "btn.click()"
   ]
  },
  {
   "cell_type": "code",
   "execution_count": 22,
   "id": "25d63495",
   "metadata": {
    "scrolled": true
   },
   "outputs": [
    {
     "ename": "ElementNotInteractableException",
     "evalue": "Message: element not interactable\n  (Session info: chrome=116.0.5845.97)\nStacktrace:\n\tGetHandleVerifier [0x00007FF6ED8F52A2+57122]\n\t(No symbol) [0x00007FF6ED86EA92]\n\t(No symbol) [0x00007FF6ED73E25D]\n\t(No symbol) [0x00007FF6ED778E97]\n\t(No symbol) [0x00007FF6ED76F25F]\n\t(No symbol) [0x00007FF6ED796FDA]\n\t(No symbol) [0x00007FF6ED76EB76]\n\t(No symbol) [0x00007FF6ED7971F0]\n\t(No symbol) [0x00007FF6ED7AEB82]\n\t(No symbol) [0x00007FF6ED796DB3]\n\t(No symbol) [0x00007FF6ED76D2B1]\n\t(No symbol) [0x00007FF6ED76E494]\n\tGetHandleVerifier [0x00007FF6EDB9EF82+2849794]\n\tGetHandleVerifier [0x00007FF6EDBF1D24+3189156]\n\tGetHandleVerifier [0x00007FF6EDBEACAF+3160367]\n\tGetHandleVerifier [0x00007FF6ED986D06+653702]\n\t(No symbol) [0x00007FF6ED87A208]\n\t(No symbol) [0x00007FF6ED8762C4]\n\t(No symbol) [0x00007FF6ED8763F6]\n\t(No symbol) [0x00007FF6ED8667A3]\n\tBaseThreadInitThunk [0x00007FF86C9C7614+20]\n\tRtlUserThreadStart [0x00007FF86D5626B1+33]\n",
     "output_type": "error",
     "traceback": [
      "\u001b[1;31m---------------------------------------------------------------------------\u001b[0m",
      "\u001b[1;31mElementNotInteractableException\u001b[0m           Traceback (most recent call last)",
      "Cell \u001b[1;32mIn[22], line 4\u001b[0m\n\u001b[0;32m      2\u001b[0m \u001b[38;5;28;01mfor\u001b[39;00m i \u001b[38;5;129;01min\u001b[39;00m \u001b[38;5;28mrange\u001b[39m(\u001b[38;5;241m5\u001b[39m):\n\u001b[0;32m      3\u001b[0m     btn \u001b[38;5;241m=\u001b[39m driver\u001b[38;5;241m.\u001b[39mfind_element(By\u001b[38;5;241m.\u001b[39mCSS_SELECTOR, \u001b[38;5;124m\"\u001b[39m\u001b[38;5;124ma.c_05\u001b[39m\u001b[38;5;124m\"\u001b[39m)\n\u001b[1;32m----> 4\u001b[0m     btn\u001b[38;5;241m.\u001b[39mclick()\n\u001b[0;32m      5\u001b[0m     time\u001b[38;5;241m.\u001b[39msleep(\u001b[38;5;241m1\u001b[39m)\n",
      "File \u001b[1;32m~\\anaconda3\\Lib\\site-packages\\selenium\\webdriver\\remote\\webelement.py:94\u001b[0m, in \u001b[0;36mWebElement.click\u001b[1;34m(self)\u001b[0m\n\u001b[0;32m     92\u001b[0m \u001b[38;5;28;01mdef\u001b[39;00m \u001b[38;5;21mclick\u001b[39m(\u001b[38;5;28mself\u001b[39m) \u001b[38;5;241m-\u001b[39m\u001b[38;5;241m>\u001b[39m \u001b[38;5;28;01mNone\u001b[39;00m:\n\u001b[0;32m     93\u001b[0m \u001b[38;5;250m    \u001b[39m\u001b[38;5;124;03m\"\"\"Clicks the element.\"\"\"\u001b[39;00m\n\u001b[1;32m---> 94\u001b[0m     \u001b[38;5;28mself\u001b[39m\u001b[38;5;241m.\u001b[39m_execute(Command\u001b[38;5;241m.\u001b[39mCLICK_ELEMENT)\n",
      "File \u001b[1;32m~\\anaconda3\\Lib\\site-packages\\selenium\\webdriver\\remote\\webelement.py:395\u001b[0m, in \u001b[0;36mWebElement._execute\u001b[1;34m(self, command, params)\u001b[0m\n\u001b[0;32m    393\u001b[0m     params \u001b[38;5;241m=\u001b[39m {}\n\u001b[0;32m    394\u001b[0m params[\u001b[38;5;124m\"\u001b[39m\u001b[38;5;124mid\u001b[39m\u001b[38;5;124m\"\u001b[39m] \u001b[38;5;241m=\u001b[39m \u001b[38;5;28mself\u001b[39m\u001b[38;5;241m.\u001b[39m_id\n\u001b[1;32m--> 395\u001b[0m \u001b[38;5;28;01mreturn\u001b[39;00m \u001b[38;5;28mself\u001b[39m\u001b[38;5;241m.\u001b[39m_parent\u001b[38;5;241m.\u001b[39mexecute(command, params)\n",
      "File \u001b[1;32m~\\anaconda3\\Lib\\site-packages\\selenium\\webdriver\\remote\\webdriver.py:345\u001b[0m, in \u001b[0;36mWebDriver.execute\u001b[1;34m(self, driver_command, params)\u001b[0m\n\u001b[0;32m    343\u001b[0m response \u001b[38;5;241m=\u001b[39m \u001b[38;5;28mself\u001b[39m\u001b[38;5;241m.\u001b[39mcommand_executor\u001b[38;5;241m.\u001b[39mexecute(driver_command, params)\n\u001b[0;32m    344\u001b[0m \u001b[38;5;28;01mif\u001b[39;00m response:\n\u001b[1;32m--> 345\u001b[0m     \u001b[38;5;28mself\u001b[39m\u001b[38;5;241m.\u001b[39merror_handler\u001b[38;5;241m.\u001b[39mcheck_response(response)\n\u001b[0;32m    346\u001b[0m     response[\u001b[38;5;124m\"\u001b[39m\u001b[38;5;124mvalue\u001b[39m\u001b[38;5;124m\"\u001b[39m] \u001b[38;5;241m=\u001b[39m \u001b[38;5;28mself\u001b[39m\u001b[38;5;241m.\u001b[39m_unwrap_value(response\u001b[38;5;241m.\u001b[39mget(\u001b[38;5;124m\"\u001b[39m\u001b[38;5;124mvalue\u001b[39m\u001b[38;5;124m\"\u001b[39m, \u001b[38;5;28;01mNone\u001b[39;00m))\n\u001b[0;32m    347\u001b[0m     \u001b[38;5;28;01mreturn\u001b[39;00m response\n",
      "File \u001b[1;32m~\\anaconda3\\Lib\\site-packages\\selenium\\webdriver\\remote\\errorhandler.py:229\u001b[0m, in \u001b[0;36mErrorHandler.check_response\u001b[1;34m(self, response)\u001b[0m\n\u001b[0;32m    227\u001b[0m         alert_text \u001b[38;5;241m=\u001b[39m value[\u001b[38;5;124m\"\u001b[39m\u001b[38;5;124malert\u001b[39m\u001b[38;5;124m\"\u001b[39m]\u001b[38;5;241m.\u001b[39mget(\u001b[38;5;124m\"\u001b[39m\u001b[38;5;124mtext\u001b[39m\u001b[38;5;124m\"\u001b[39m)\n\u001b[0;32m    228\u001b[0m     \u001b[38;5;28;01mraise\u001b[39;00m exception_class(message, screen, stacktrace, alert_text)  \u001b[38;5;66;03m# type: ignore[call-arg]  # mypy is not smart enough here\u001b[39;00m\n\u001b[1;32m--> 229\u001b[0m \u001b[38;5;28;01mraise\u001b[39;00m exception_class(message, screen, stacktrace)\n",
      "\u001b[1;31mElementNotInteractableException\u001b[0m: Message: element not interactable\n  (Session info: chrome=116.0.5845.97)\nStacktrace:\n\tGetHandleVerifier [0x00007FF6ED8F52A2+57122]\n\t(No symbol) [0x00007FF6ED86EA92]\n\t(No symbol) [0x00007FF6ED73E25D]\n\t(No symbol) [0x00007FF6ED778E97]\n\t(No symbol) [0x00007FF6ED76F25F]\n\t(No symbol) [0x00007FF6ED796FDA]\n\t(No symbol) [0x00007FF6ED76EB76]\n\t(No symbol) [0x00007FF6ED7971F0]\n\t(No symbol) [0x00007FF6ED7AEB82]\n\t(No symbol) [0x00007FF6ED796DB3]\n\t(No symbol) [0x00007FF6ED76D2B1]\n\t(No symbol) [0x00007FF6ED76E494]\n\tGetHandleVerifier [0x00007FF6EDB9EF82+2849794]\n\tGetHandleVerifier [0x00007FF6EDBF1D24+3189156]\n\tGetHandleVerifier [0x00007FF6EDBEACAF+3160367]\n\tGetHandleVerifier [0x00007FF6ED986D06+653702]\n\t(No symbol) [0x00007FF6ED87A208]\n\t(No symbol) [0x00007FF6ED8762C4]\n\t(No symbol) [0x00007FF6ED8763F6]\n\t(No symbol) [0x00007FF6ED8667A3]\n\tBaseThreadInitThunk [0x00007FF86C9C7614+20]\n\tRtlUserThreadStart [0x00007FF86D5626B1+33]\n"
     ]
    }
   ],
   "source": [
    "# 더보기 버튼을 반복해서 클릭\n",
    "for i in range(5):\n",
    "    btn = driver.find_element(By.CSS_SELECTOR, \"a.c_05\")\n",
    "    btn.click()\n",
    "    time.sleep(1)"
   ]
  },
  {
   "cell_type": "markdown",
   "id": "23f68f40",
   "metadata": {},
   "source": [
    "# 예외처리\n",
    "- 오류가 나기 전까지 코드를 실행하다가 (try)\n",
    "- 오류가 발생하면 다른코드를 진행하겠다!(except)"
   ]
  },
  {
   "cell_type": "code",
   "execution_count": 5,
   "id": "d7a5af94",
   "metadata": {},
   "outputs": [
    {
     "name": "stdout",
     "output_type": "stream",
     "text": [
      "더 이상 버튼이 없습니다.\n"
     ]
    },
    {
     "ename": "NoSuchWindowException",
     "evalue": "Message: no such window: target window already closed\nfrom unknown error: web view not found\n  (Session info: chrome=116.0.5845.97)\nStacktrace:\n\tGetHandleVerifier [0x00007FF6ED8F52A2+57122]\n\t(No symbol) [0x00007FF6ED86EA92]\n\t(No symbol) [0x00007FF6ED73E3AB]\n\t(No symbol) [0x00007FF6ED71E1B9]\n\t(No symbol) [0x00007FF6ED79B417]\n\t(No symbol) [0x00007FF6ED7AE24F]\n\t(No symbol) [0x00007FF6ED796DB3]\n\t(No symbol) [0x00007FF6ED76D2B1]\n\t(No symbol) [0x00007FF6ED76E494]\n\tGetHandleVerifier [0x00007FF6EDB9EF82+2849794]\n\tGetHandleVerifier [0x00007FF6EDBF1D24+3189156]\n\tGetHandleVerifier [0x00007FF6EDBEACAF+3160367]\n\tGetHandleVerifier [0x00007FF6ED986D06+653702]\n\t(No symbol) [0x00007FF6ED87A208]\n\t(No symbol) [0x00007FF6ED8762C4]\n\t(No symbol) [0x00007FF6ED8763F6]\n\t(No symbol) [0x00007FF6ED8667A3]\n\tBaseThreadInitThunk [0x00007FF86C9C7614+20]\n\tRtlUserThreadStart [0x00007FF86D5626B1+33]\n",
     "output_type": "error",
     "traceback": [
      "\u001b[1;31m---------------------------------------------------------------------------\u001b[0m",
      "\u001b[1;31mNoSuchWindowException\u001b[0m                     Traceback (most recent call last)",
      "Cell \u001b[1;32mIn[5], line 21\u001b[0m\n\u001b[0;32m     19\u001b[0m \u001b[38;5;28;01mfor\u001b[39;00m i \u001b[38;5;129;01min\u001b[39;00m \u001b[38;5;28mrange\u001b[39m(\u001b[38;5;28mlen\u001b[39m(title)) :\n\u001b[0;32m     20\u001b[0m     title_list\u001b[38;5;241m.\u001b[39mappend(title[i]\u001b[38;5;241m.\u001b[39mtext)\n\u001b[1;32m---> 21\u001b[0m     price_list\u001b[38;5;241m.\u001b[39mappend(price[i]\u001b[38;5;241m.\u001b[39mtext)\n\u001b[0;32m     23\u001b[0m dic \u001b[38;5;241m=\u001b[39m {\u001b[38;5;124m\"\u001b[39m\u001b[38;5;124m상품명\u001b[39m\u001b[38;5;124m\"\u001b[39m : title_list, \u001b[38;5;124m\"\u001b[39m\u001b[38;5;124m가격정보\u001b[39m\u001b[38;5;124m\"\u001b[39m : price_list}\n\u001b[0;32m     24\u001b[0m hansot \u001b[38;5;241m=\u001b[39m pd\u001b[38;5;241m.\u001b[39mDataFrame(dic)\n",
      "File \u001b[1;32m~\\anaconda3\\Lib\\site-packages\\selenium\\webdriver\\remote\\webelement.py:90\u001b[0m, in \u001b[0;36mWebElement.text\u001b[1;34m(self)\u001b[0m\n\u001b[0;32m     87\u001b[0m \u001b[38;5;129m@property\u001b[39m\n\u001b[0;32m     88\u001b[0m \u001b[38;5;28;01mdef\u001b[39;00m \u001b[38;5;21mtext\u001b[39m(\u001b[38;5;28mself\u001b[39m) \u001b[38;5;241m-\u001b[39m\u001b[38;5;241m>\u001b[39m \u001b[38;5;28mstr\u001b[39m:\n\u001b[0;32m     89\u001b[0m \u001b[38;5;250m    \u001b[39m\u001b[38;5;124;03m\"\"\"The text of the element.\"\"\"\u001b[39;00m\n\u001b[1;32m---> 90\u001b[0m     \u001b[38;5;28;01mreturn\u001b[39;00m \u001b[38;5;28mself\u001b[39m\u001b[38;5;241m.\u001b[39m_execute(Command\u001b[38;5;241m.\u001b[39mGET_ELEMENT_TEXT)[\u001b[38;5;124m\"\u001b[39m\u001b[38;5;124mvalue\u001b[39m\u001b[38;5;124m\"\u001b[39m]\n",
      "File \u001b[1;32m~\\anaconda3\\Lib\\site-packages\\selenium\\webdriver\\remote\\webelement.py:395\u001b[0m, in \u001b[0;36mWebElement._execute\u001b[1;34m(self, command, params)\u001b[0m\n\u001b[0;32m    393\u001b[0m     params \u001b[38;5;241m=\u001b[39m {}\n\u001b[0;32m    394\u001b[0m params[\u001b[38;5;124m\"\u001b[39m\u001b[38;5;124mid\u001b[39m\u001b[38;5;124m\"\u001b[39m] \u001b[38;5;241m=\u001b[39m \u001b[38;5;28mself\u001b[39m\u001b[38;5;241m.\u001b[39m_id\n\u001b[1;32m--> 395\u001b[0m \u001b[38;5;28;01mreturn\u001b[39;00m \u001b[38;5;28mself\u001b[39m\u001b[38;5;241m.\u001b[39m_parent\u001b[38;5;241m.\u001b[39mexecute(command, params)\n",
      "File \u001b[1;32m~\\anaconda3\\Lib\\site-packages\\selenium\\webdriver\\remote\\webdriver.py:345\u001b[0m, in \u001b[0;36mWebDriver.execute\u001b[1;34m(self, driver_command, params)\u001b[0m\n\u001b[0;32m    343\u001b[0m response \u001b[38;5;241m=\u001b[39m \u001b[38;5;28mself\u001b[39m\u001b[38;5;241m.\u001b[39mcommand_executor\u001b[38;5;241m.\u001b[39mexecute(driver_command, params)\n\u001b[0;32m    344\u001b[0m \u001b[38;5;28;01mif\u001b[39;00m response:\n\u001b[1;32m--> 345\u001b[0m     \u001b[38;5;28mself\u001b[39m\u001b[38;5;241m.\u001b[39merror_handler\u001b[38;5;241m.\u001b[39mcheck_response(response)\n\u001b[0;32m    346\u001b[0m     response[\u001b[38;5;124m\"\u001b[39m\u001b[38;5;124mvalue\u001b[39m\u001b[38;5;124m\"\u001b[39m] \u001b[38;5;241m=\u001b[39m \u001b[38;5;28mself\u001b[39m\u001b[38;5;241m.\u001b[39m_unwrap_value(response\u001b[38;5;241m.\u001b[39mget(\u001b[38;5;124m\"\u001b[39m\u001b[38;5;124mvalue\u001b[39m\u001b[38;5;124m\"\u001b[39m, \u001b[38;5;28;01mNone\u001b[39;00m))\n\u001b[0;32m    347\u001b[0m     \u001b[38;5;28;01mreturn\u001b[39;00m response\n",
      "File \u001b[1;32m~\\anaconda3\\Lib\\site-packages\\selenium\\webdriver\\remote\\errorhandler.py:229\u001b[0m, in \u001b[0;36mErrorHandler.check_response\u001b[1;34m(self, response)\u001b[0m\n\u001b[0;32m    227\u001b[0m         alert_text \u001b[38;5;241m=\u001b[39m value[\u001b[38;5;124m\"\u001b[39m\u001b[38;5;124malert\u001b[39m\u001b[38;5;124m\"\u001b[39m]\u001b[38;5;241m.\u001b[39mget(\u001b[38;5;124m\"\u001b[39m\u001b[38;5;124mtext\u001b[39m\u001b[38;5;124m\"\u001b[39m)\n\u001b[0;32m    228\u001b[0m     \u001b[38;5;28;01mraise\u001b[39;00m exception_class(message, screen, stacktrace, alert_text)  \u001b[38;5;66;03m# type: ignore[call-arg]  # mypy is not smart enough here\u001b[39;00m\n\u001b[1;32m--> 229\u001b[0m \u001b[38;5;28;01mraise\u001b[39;00m exception_class(message, screen, stacktrace)\n",
      "\u001b[1;31mNoSuchWindowException\u001b[0m: Message: no such window: target window already closed\nfrom unknown error: web view not found\n  (Session info: chrome=116.0.5845.97)\nStacktrace:\n\tGetHandleVerifier [0x00007FF6ED8F52A2+57122]\n\t(No symbol) [0x00007FF6ED86EA92]\n\t(No symbol) [0x00007FF6ED73E3AB]\n\t(No symbol) [0x00007FF6ED71E1B9]\n\t(No symbol) [0x00007FF6ED79B417]\n\t(No symbol) [0x00007FF6ED7AE24F]\n\t(No symbol) [0x00007FF6ED796DB3]\n\t(No symbol) [0x00007FF6ED76D2B1]\n\t(No symbol) [0x00007FF6ED76E494]\n\tGetHandleVerifier [0x00007FF6EDB9EF82+2849794]\n\tGetHandleVerifier [0x00007FF6EDBF1D24+3189156]\n\tGetHandleVerifier [0x00007FF6EDBEACAF+3160367]\n\tGetHandleVerifier [0x00007FF6ED986D06+653702]\n\t(No symbol) [0x00007FF6ED87A208]\n\t(No symbol) [0x00007FF6ED8762C4]\n\t(No symbol) [0x00007FF6ED8763F6]\n\t(No symbol) [0x00007FF6ED8667A3]\n\tBaseThreadInitThunk [0x00007FF86C9C7614+20]\n\tRtlUserThreadStart [0x00007FF86D5626B1+33]\n"
     ]
    }
   ],
   "source": [
    "# 한 코드에 완성\n",
    "\n",
    "driver = wb.Chrome()\n",
    "driver.get(\"https://www.hsd.co.kr/menu/menu_list\")\n",
    "time.sleep(1)\n",
    "try :\n",
    "    for i in range(5):\n",
    "        btn = driver.find_element(By.CSS_SELECTOR, \"a.c_05\")\n",
    "        btn.click()\n",
    "        time.sleep(1)\n",
    "except : \n",
    "    print(\"더 이상 버튼이 없습니다.\")\n",
    "    \n",
    "title = driver.find_elements(By.CSS_SELECTOR, \".h.fz_03\")\n",
    "price = driver.find_elements(By.CSS_SELECTOR, \"div.item-price > Strong\")\n",
    "\n",
    "title_list = []\n",
    "price_list = []\n",
    "for i in range(len(title)) :\n",
    "    title_list.append(title[i].text)\n",
    "    price_list.append(price[i].text)\n",
    "\n",
    "dic = {\"상품명\" : title_list, \"가격정보\" : price_list}\n",
    "hansot = pd.DataFrame(dic)\n",
    "hansot.to_csv(\"한솥메뉴.csv\", encoding = \"euc-kr\")\n",
    "driver.quit()"
   ]
  },
  {
   "cell_type": "markdown",
   "id": "7e17fadd",
   "metadata": {},
   "source": [
    "# 크롤링하는 프로세스 ★★★★★ (가장 중요)\n",
    "1. 브라우저를 실행 및 페이지 이동\n",
    "2. 전체 데이터 로딩(더보기 클릭, 스크롤 이동 등)\n",
    "- 데이터 준비 단계\n",
    "3. 수집하고자 하는 요소를 수집 \n",
    "- 데이터 수집단계\n",
    "4. 수집된 데이터 (요소)에서 순수한 텍스트만 저장\n",
    "- 데이터 가공단계\n",
    "5. 수집된 텍스트 데이터를 활용(표, csv)\n",
    "- 데이터 활용단계\n",
    "\n",
    "★ 팁\n",
    "1. 오류가 발생할 수 있으니까 항상 예외처리를 생각해야 한다.\n",
    "2. 반복문을 작성할 때 for 먼저 쓰는게 아니다! -> 반드시 하나의 완벽한 코드를 작성 후, 반복문으로 묶어줘라 \n",
    "3. time.sleep을 잘 활용하자 -> 클라이언트가 서버에게 요청을 보낼 때마다 작성을 해주자.\n",
    "4. 코드를 다시 실행할 때는 절대 절대 run all 돌리지 말기 "
   ]
  },
  {
   "cell_type": "code",
   "execution_count": null,
   "id": "2df0155f",
   "metadata": {},
   "outputs": [],
   "source": [
    "# 한셀에 모두 넣어서 하기! == 시험\n",
    "\n",
    "# and 기본 조작법 (창 키고, ~~)\n",
    "\n",
    "# 멜론 차트\n",
    "\n",
    "# 지마켓까지 시험\n",
    "\n",
    "# encoding 해야한다 csv로 저장해야한다."
   ]
  }
 ],
 "metadata": {
  "kernelspec": {
   "display_name": "Python 3 (ipykernel)",
   "language": "python",
   "name": "python3"
  },
  "language_info": {
   "codemirror_mode": {
    "name": "ipython",
    "version": 3
   },
   "file_extension": ".py",
   "mimetype": "text/x-python",
   "name": "python",
   "nbconvert_exporter": "python",
   "pygments_lexer": "ipython3",
   "version": "3.11.3"
  }
 },
 "nbformat": 4,
 "nbformat_minor": 5
}
