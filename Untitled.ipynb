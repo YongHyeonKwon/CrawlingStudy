{
 "cells": [
  {
   "cell_type": "code",
   "execution_count": 43,
   "id": "9b5de568",
   "metadata": {},
   "outputs": [],
   "source": [
    "from selenium import webdriver as wb\n",
    "from selenium.webdriver.common.by import By\n",
    "import time \n",
    "\n",
    "driver = wb.Chrome()\n",
    "driver.get(\"http://corners.gmarket.co.kr/Bestsellers\")\n",
    "time.sleep(1)\n",
    "\n",
    "pro_list = driver.find_elements(By.CSS_SELECTOR, \".image__lazy.image__load\")\n",
    "pro_list[1].click()\n",
    "title = driver.find_element(By.CSS_SELECTOR, \"#itemcase_basic > div > h1\")\n",
    "price = driver.find_element(By.CSS_SELECTOR, \"#itemcase_basic > div > div.price > span:nth-child(2) > strong\")\n"
   ]
  },
  {
   "cell_type": "code",
   "execution_count": 44,
   "id": "44433d83",
   "metadata": {
    "scrolled": true
   },
   "outputs": [
    {
     "data": {
      "text/plain": [
       "'23,900원'"
      ]
     },
     "execution_count": 44,
     "metadata": {},
     "output_type": "execute_result"
    }
   ],
   "source": [
    "price.text"
   ]
  },
  {
   "cell_type": "code",
   "execution_count": null,
   "id": "6c9e3ffc",
   "metadata": {},
   "outputs": [],
   "source": [
    "driver = wb.Chrome()\n",
    "driver.get(\"http://corners.gmarket.co.kr/Bestsellers\")\n",
    "time.sleep(1)\n",
    "\n",
    "title_list = []\n",
    "price_list = []\n",
    "\n",
    "for i in range(5) :\n",
    "    \n",
    "    pro_list = driver.find_elements(By.CSS_SELECTOR, \".image__lazy.image__load\")\n",
    "    pro_list[i].click()\n",
    "    title = driver.find_element(By.CSS_SELECTOR, \"#itemcase_basic > div > h1\")\n",
    "    price = driver.find_element(By.CSS_SELECTOR, \"#itemcase_basic > div > div.price > span:nth-child(2) > strong\")\n",
    "    \n",
    "title_list = []\n",
    "price_list = []\n",
    "\n",
    "for i in range(len(title)) :\n",
    "    title_list.append(title[i].text)\n",
    "    price_list.append(price[i].text)"
   ]
  }
 ],
 "metadata": {
  "kernelspec": {
   "display_name": "Python 3 (ipykernel)",
   "language": "python",
   "name": "python3"
  },
  "language_info": {
   "codemirror_mode": {
    "name": "ipython",
    "version": 3
   },
   "file_extension": ".py",
   "mimetype": "text/x-python",
   "name": "python",
   "nbconvert_exporter": "python",
   "pygments_lexer": "ipython3",
   "version": "3.11.3"
  }
 },
 "nbformat": 4,
 "nbformat_minor": 5
}
