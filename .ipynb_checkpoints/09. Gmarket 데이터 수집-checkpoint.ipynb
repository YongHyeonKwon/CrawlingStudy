{
 "cells": [
  {
   "cell_type": "code",
   "execution_count": null,
   "id": "c994703c",
   "metadata": {},
   "outputs": [],
   "source": [
    "# 시험 나옴 data frame 만들기로 시험"
   ]
  },
  {
   "cell_type": "code",
   "execution_count": 16,
   "id": "44a8e5a7",
   "metadata": {},
   "outputs": [],
   "source": [
    "from selenium import webdriver as wb\n",
    "from selenium.webdriver.common.by import By\n",
    "import time "
   ]
  },
  {
   "cell_type": "code",
   "execution_count": 17,
   "id": "4b685b01",
   "metadata": {},
   "outputs": [],
   "source": [
    "driver = wb.Chrome()\n",
    "driver.get(\"https://www.gmarket.co.kr/n/best\")"
   ]
  },
  {
   "cell_type": "code",
   "execution_count": 18,
   "id": "485a1d1f",
   "metadata": {
    "scrolled": true
   },
   "outputs": [],
   "source": [
    "# 1. 첫 번째 상품을 클릭해서 들어간다.\n",
    "pro_list = driver.find_elements(By.CSS_SELECTOR, \".image__lazy.image__load\")\n",
    "pro_list[0].click()"
   ]
  },
  {
   "cell_type": "code",
   "execution_count": 20,
   "id": "7baf1222",
   "metadata": {},
   "outputs": [],
   "source": [
    "# 2. 상품명, 상품가격을 수집\n",
    "title = driver.find_element(By.CSS_SELECTOR, \"#itemcase_basic > div > h1\")\n",
    "price = driver.find_element(By.CSS_SELECTOR, \"#itemcase_basic > div > div.price > span.price_innerwrap.price_innerwrap-coupon > strong\")"
   ]
  },
  {
   "cell_type": "code",
   "execution_count": 21,
   "id": "0226b22f",
   "metadata": {},
   "outputs": [],
   "source": [
    "# 3. 페이지를 뒤로가기\n",
    "driver.back()"
   ]
  },
  {
   "cell_type": "code",
   "execution_count": 26,
   "id": "5ba64f87",
   "metadata": {},
   "outputs": [],
   "source": [
    "# 반복문의 진행상황을 로딩바 형태로 제공 \n",
    "from tqdm.notebook import tqdm "
   ]
  },
  {
   "cell_type": "code",
   "execution_count": 30,
   "id": "bc66e31c",
   "metadata": {},
   "outputs": [
    {
     "data": {
      "application/vnd.jupyter.widget-view+json": {
       "model_id": "af123a504ed641298d6edcc910b4f746",
       "version_major": 2,
       "version_minor": 0
      },
      "text/plain": [
       "  0%|          | 0/10 [00:00<?, ?it/s]"
      ]
     },
     "metadata": {},
     "output_type": "display_data"
    }
   ],
   "source": [
    "# 1,2,3을 반복하는 코드를 작성\n",
    "\n",
    "for i in tqdm(range(10)) :\n",
    "    pro_list = driver.find_elements(By.CSS_SELECTOR, \".image__lazy.image__load\")\n",
    "    pro_list[i].click()\n",
    "    time.sleep(2)\n",
    "    title = driver.find_element(By.CSS_SELECTOR, \"#itemcase_basic > div > h1\")\n",
    "    title.text\n",
    "    try :\n",
    "        # 쿠폰할인가를 수집\n",
    "        price = driver.find_element(By.CSS_SELECTOR, \"#itemcase_basic > div > div.price > span.price_innerwrap.price_innerwrap-coupon > strong\")\n",
    "        price.text\n",
    "    except :\n",
    "        # 쿠폰할인가가 없는 경우 수집\n",
    "        price = driver.find_element(By.CSS_SELECTOR, \"#itemcase_basic > div > div.price > span.price_innerwrap > strong\")\n",
    "        price.text\n",
    "    driver.back()\n",
    "    time.sleep(2)"
   ]
  },
  {
   "cell_type": "code",
   "execution_count": null,
   "id": "2dc7ec12",
   "metadata": {},
   "outputs": [],
   "source": [
    "# 순수한 텍스트 저장, DF, CSV"
   ]
  }
 ],
 "metadata": {
  "kernelspec": {
   "display_name": "Python 3 (ipykernel)",
   "language": "python",
   "name": "python3"
  },
  "language_info": {
   "codemirror_mode": {
    "name": "ipython",
    "version": 3
   },
   "file_extension": ".py",
   "mimetype": "text/x-python",
   "name": "python",
   "nbconvert_exporter": "python",
   "pygments_lexer": "ipython3",
   "version": "3.11.3"
  }
 },
 "nbformat": 4,
 "nbformat_minor": 5
}
