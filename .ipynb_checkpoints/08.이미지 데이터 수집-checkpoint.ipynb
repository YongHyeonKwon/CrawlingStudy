{
 "cells": [
  {
   "cell_type": "code",
   "execution_count": 28,
   "id": "f1984cbd",
   "metadata": {},
   "outputs": [],
   "source": [
    "from selenium import webdriver as wb\n",
    "from selenium.webdriver.common.by import By\n",
    "from selenium.webdriver.common.keys import Keys\n",
    "import time\n",
    "# 파일시스템을 위한 라이브러리(삭제,생성)\n",
    "import os\n",
    "# 이미지의 경로를 실제 파일로 저장\n",
    "from urllib.request import urlretrieve"
   ]
  },
  {
   "cell_type": "code",
   "execution_count": 10,
   "id": "77cd1551",
   "metadata": {},
   "outputs": [],
   "source": [
    "# 폴더 생성\n",
    "# 바탕화면에 이미지라는 폴더가 없다면 바탕화면에 이미지라는 폴더를 만들어줘!\n",
    "if not os.path.isdir(\"C:/Users/smhrd/Desktop/이미지\") :\n",
    "    os.mkdir(\"C:/Users/smhrd/Desktop/이미지\")"
   ]
  },
  {
   "cell_type": "code",
   "execution_count": 12,
   "id": "bcafee2c",
   "metadata": {},
   "outputs": [],
   "source": [
    "driver = wb.Chrome()\n",
    "driver.get(\"https://search.naver.com/search.naver?where=image&sm=tab_jum&query=%EC%98%A4%ED%83%80%EB%8B%88\")"
   ]
  },
  {
   "cell_type": "code",
   "execution_count": 35,
   "id": "f8fbd64b",
   "metadata": {},
   "outputs": [
    {
     "ename": "NameError",
     "evalue": "name 'body' is not defined",
     "output_type": "error",
     "traceback": [
      "\u001b[1;31m---------------------------------------------------------------------------\u001b[0m",
      "\u001b[1;31mNameError\u001b[0m                                 Traceback (most recent call last)",
      "Cell \u001b[1;32mIn[35], line 4\u001b[0m\n\u001b[0;32m      2\u001b[0m driver\u001b[38;5;241m.\u001b[39mfind_element(By\u001b[38;5;241m.\u001b[39mCSS_SELECTOR,\u001b[38;5;124m\"\u001b[39m\u001b[38;5;124mbody\u001b[39m\u001b[38;5;124m\"\u001b[39m)\n\u001b[0;32m      3\u001b[0m \u001b[38;5;28;01mfor\u001b[39;00m i \u001b[38;5;129;01min\u001b[39;00m \u001b[38;5;28mrange\u001b[39m(\u001b[38;5;241m10\u001b[39m) :\n\u001b[1;32m----> 4\u001b[0m     body\u001b[38;5;241m.\u001b[39msend_keys(Keys\u001b[38;5;241m.\u001b[39mEND)\n",
      "\u001b[1;31mNameError\u001b[0m: name 'body' is not defined"
     ]
    }
   ],
   "source": [
    "# 스크롤을 통해서 전체 이미지를 로딩 \n",
    "body = driver.find_element(By.CSS_SELECTOR,\"body\")\n",
    "for i in range(10) :\n",
    "    body.send_keys(Keys.END) "
   ]
  },
  {
   "cell_type": "code",
   "execution_count": 14,
   "id": "3bd4a296",
   "metadata": {},
   "outputs": [],
   "source": [
    "# 이미지 데이터 수집\n",
    "img = driver.find_elements(By.CSS_SELECTOR, \"._image._listImage\")"
   ]
  },
  {
   "cell_type": "code",
   "execution_count": 17,
   "id": "7902f17c",
   "metadata": {
    "scrolled": true
   },
   "outputs": [
    {
     "data": {
      "text/plain": [
       "'https://search.pstatic.net/common/?src=http%3A%2F%2Fimgnews.naver.net%2Fimage%2F117%2F2023%2F07%2F23%2F202307221500652340_4_20230723050701875.jpg&type=a340'"
      ]
     },
     "execution_count": 17,
     "metadata": {},
     "output_type": "execute_result"
    }
   ],
   "source": [
    "# 이미지 태그에서 src 속성만 추출\n",
    "# 태그에서 속성을 꺼내올 때는 get_attribute(\"속성\")\n",
    "img[0].get_attribute(\"src\")"
   ]
  },
  {
   "cell_type": "code",
   "execution_count": 18,
   "id": "f4a005c1",
   "metadata": {},
   "outputs": [],
   "source": [
    "src = []\n",
    "for i in range(len(img)) :\n",
    "    src.append(img[i].get_attribute(\"src\"))"
   ]
  },
  {
   "cell_type": "code",
   "execution_count": 20,
   "id": "8b053f65",
   "metadata": {},
   "outputs": [],
   "source": [
    "# src 값을 파일로 저장\n",
    "for i in range(len(src)) :\n",
    "    urlretrieve(src[i], \"C:/Users/smhrd/Desktop/이미지/\"+str(i)+\".jpg\" )"
   ]
  },
  {
   "cell_type": "code",
   "execution_count": 36,
   "id": "56a4376f",
   "metadata": {},
   "outputs": [],
   "source": [
    "driver = wb.Chrome()\n",
    "driver.get(\"https://search.naver.com/search.naver?where=image&sm=tab_jum&query=%EC%98%A4%ED%83%80%EB%8B%88\")\n",
    "time.sleep(1)\n",
    "\n",
    "body = driver.find_element(By.CSS_SELECTOR,\"body\")\n",
    "for i in range(10) :\n",
    "    body.send_keys(Keys.END)\n",
    "    time.sleep(0.5)\n",
    "    \n",
    "img = driver.find_elements(By.CSS_SELECTOR, \"._image._listImage\")\n",
    "    \n",
    "src = []\n",
    "for i in range(len(img)) :\n",
    "    src.append(img[i].get_attribute(\"src\"))\n",
    "    \n",
    "for i in range(len(src)) :\n",
    "    urlretrieve(src[i], \"C:/Users/smhrd/Desktop/이미지/\"+str(i)+\".jpg\" )"
   ]
  }
 ],
 "metadata": {
  "kernelspec": {
   "display_name": "Python 3 (ipykernel)",
   "language": "python",
   "name": "python3"
  },
  "language_info": {
   "codemirror_mode": {
    "name": "ipython",
    "version": 3
   },
   "file_extension": ".py",
   "mimetype": "text/x-python",
   "name": "python",
   "nbconvert_exporter": "python",
   "pygments_lexer": "ipython3",
   "version": "3.11.3"
  }
 },
 "nbformat": 4,
 "nbformat_minor": 5
}
