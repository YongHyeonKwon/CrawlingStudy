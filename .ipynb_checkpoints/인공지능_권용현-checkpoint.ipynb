{
 "cells": [
  {
   "cell_type": "markdown",
   "id": "f49fe2e4",
   "metadata": {},
   "source": [
    "# 필기답안지"
   ]
  },
  {
   "cell_type": "markdown",
   "id": "74e88e62",
   "metadata": {},
   "source": [
    "## 문제1 \n",
    "다음은 빅데이터 수집방식에 대한 설명이다. 빈 칸에 알맞은 방식을 고르시오."
   ]
  },
  {
   "cell_type": "markdown",
   "id": "29baa41a",
   "metadata": {},
   "source": [
    "- 1 : a\n",
    "- 2 : f\n",
    "- 3 : c\n",
    "- 4 : h"
   ]
  },
  {
   "cell_type": "markdown",
   "id": "098be8fb",
   "metadata": {},
   "source": [
    "## 문제2\n",
    "크롤링의 개념과 필요성에 대해 서술하시오.\n",
    "- 답안 : \n",
    "- 개념: 웹 사이트의 내용에 접근하여 원하는 정보를 추출해 내는 행위\n",
    "\n",
    "- 필요성: 현재 엄청난 양의 데이터가 쏟아지고 있는데 이를 수작업으로만 \n",
    "          수집하기에는 무리가 있다. 이때 크롤링을 이용하면 이러한 빅데이터를 \n",
    "          쉽게 분석, 수집, 활용할 수 있다. 그리고 한 번 코드를 잘 \n",
    "          짜놓는다면 업무 자동화에도 큰 도움을 줄 수 있다."
   ]
  },
  {
   "cell_type": "markdown",
   "id": "29e08d76",
   "metadata": {},
   "source": [
    "## 문제3\n",
    "BeautifulSoup모듈에 대해 서술하시오.\n",
    "- 답안 :requests모듈을 이용해서 받아온 데이터를 컴퓨터가 이해할 수 있는 \n",
    "        데이터로 가공해주는 역할을 한다."
   ]
  },
  {
   "cell_type": "markdown",
   "id": "04c5d7be",
   "metadata": {},
   "source": [
    "## 문제4\n",
    "다음 두 보기의 차이를 설명하시오.\n",
    "- 1 : find_element(By.CSS_SELECTOR) : 단수(1)개의 요소를 찾는 명령이다.\n",
    "- 2 : find_elements(By.CSS_SELECTOR) : 복수(여러)개의 요소를 찾는 명령이다"
   ]
  },
  {
   "cell_type": "markdown",
   "id": "f82501f0",
   "metadata": {},
   "source": [
    "## 문제5\n",
    "다음은 HTML코드로 이루어진 웹 페이지이다. 밑줄 그어진 부분 BeautifulSoup 모듈의 함수를 이용하여 텍스트만 수집할 수 있는 코드에 빈칸을 작성하시오.\n",
    "- soup = bs(res.text, ‘lxml’)\n",
    "- crawling = soup.select_one(\"#this_span\")\n",
    "- print(crawling.(text))"
   ]
  },
  {
   "cell_type": "markdown",
   "id": "de85ce27",
   "metadata": {},
   "source": [
    "# 실기답안지"
   ]
  },
  {
   "cell_type": "markdown",
   "id": "b2e6a5d6",
   "metadata": {},
   "source": [
    "## 문제2\n",
    "자동제어를 통해 네이버 홈페이지에 접속하고 ‘크롤링’를 입력하여 검색하는      시스템을 구축하시오."
   ]
  },
  {
   "cell_type": "code",
   "execution_count": 2,
   "id": "88f056a8",
   "metadata": {},
   "outputs": [],
   "source": [
    "from selenium import webdriver as wb\n",
    "from selenium.webdriver.common.by import By\n",
    "from selenium.webdriver.common.keys import Keys\n",
    "import time \n",
    "\n",
    "driver = wb.Chrome()\n",
    "driver.get(\"https://www.naver.com\")\n",
    "time.sleep(1)\n",
    "\n",
    "search = driver.find_element(By.ID,\"query\")\n",
    "search.send_keys(\"크롤링\")\n",
    "search.send_keys(Keys.ENTER)"
   ]
  },
  {
   "cell_type": "markdown",
   "id": "dd7ec12a",
   "metadata": {},
   "source": [
    "# 문제3\n",
    "자동제어를 통해 G마켓 홈페이지에 접속하고, 조건에 맞는 수집프로그램을 만드시오."
   ]
  },
  {
   "cell_type": "code",
   "execution_count": 23,
   "id": "f8cbe3be",
   "metadata": {},
   "outputs": [
    {
     "ename": "TypeError",
     "evalue": "object of type 'WebElement' has no len()",
     "output_type": "error",
     "traceback": [
      "\u001b[1;31m---------------------------------------------------------------------------\u001b[0m",
      "\u001b[1;31mTypeError\u001b[0m                                 Traceback (most recent call last)",
      "Cell \u001b[1;32mIn[23], line 24\u001b[0m\n\u001b[0;32m     21\u001b[0m     driver\u001b[38;5;241m.\u001b[39mback()\n\u001b[0;32m     22\u001b[0m     time\u001b[38;5;241m.\u001b[39msleep(\u001b[38;5;241m1\u001b[39m)\n\u001b[1;32m---> 24\u001b[0m \u001b[38;5;28;01mfor\u001b[39;00m j \u001b[38;5;129;01min\u001b[39;00m \u001b[38;5;28mrange\u001b[39m(\u001b[38;5;28mlen\u001b[39m(title)) :\n\u001b[0;32m     25\u001b[0m     title_list\u001b[38;5;241m.\u001b[39mappend(title[j]\u001b[38;5;241m.\u001b[39mtext)\n\u001b[0;32m     26\u001b[0m     price_list\u001b[38;5;241m.\u001b[39mappend(price[j]\u001b[38;5;241m.\u001b[39mtext)\n",
      "\u001b[1;31mTypeError\u001b[0m: object of type 'WebElement' has no len()"
     ]
    }
   ],
   "source": [
    "from selenium import webdriver as wb\n",
    "from selenium.webdriver.common.by import By\n",
    "from selenium.webdriver.common.keys import Keys\n",
    "import time\n",
    "import pandas as pd\n",
    "\n",
    "driver = wb.Chrome()\n",
    "driver.get(\"https://www.gmarket.co.kr/n/best\")\n",
    "\n",
    "title_list = []\n",
    "price_list = []\n",
    "rank_list = []\n",
    "\n",
    "for i in range(20) :\n",
    "    pro_list = driver.find_elements(By.CSS_SELECTOR, \".image__lazy.image__load\")\n",
    "    pro_list[i].click()\n",
    "    time.sleep(1)\n",
    "    title = driver.find_element(By.CSS_SELECTOR, \"#itemcase_basic > div > h1\")\n",
    "    price = driver.find_element(By.CSS_SELECTOR, \"#itemcase_basic > div > div.price > span.price_innerwrap > strong\")\n",
    "    \n",
    "    driver.back()\n",
    "    time.sleep(1)\n",
    "    \n",
    "for j in range(len(title)) :\n",
    "    title_list.append(title[j].text)\n",
    "    price_list.append(price[j].text)\n",
    "    rank_list.append(i+1)\n",
    "        \n",
    "dic = {\"상품명\":title_list, \"가격\" : price_list, \"순위\" : rank_list}\n",
    "\n",
    "g_market = pd.DataFrame(dic)\n",
    "\n",
    "g_market.set_index(\"순위\", inplace= True)\n",
    "\n",
    "g_market"
   ]
  },
  {
   "cell_type": "markdown",
   "id": "5fb5a240",
   "metadata": {},
   "source": [
    "# 문제4\n",
    "멜론차트에서 1~100위까지 정보를 수집하는 프로그램을 작성하시오."
   ]
  },
  {
   "cell_type": "code",
   "execution_count": 4,
   "id": "59a23936",
   "metadata": {},
   "outputs": [],
   "source": [
    "import requests as req\n",
    "from bs4 import BeautifulSoup as bs \n",
    "import pandas as pd\n",
    "\n",
    "head = {\"User-Agent\":\"Mozilla/5.0 (Windows NT 10.0; Win64; x64) AppleWebKit/537.36 (KHTML, like Gecko) Chrome/115.0.0.0 Safari/537.36\"}\n",
    "res = req.get(\"https://www.melon.com/chart/index.htm\", headers = head)\n",
    "\n",
    "soup = bs(res.text, \"lxml\")\n",
    "\n",
    "singer = soup.select(\"div.ellipsis.rank02 > span.checkEllipsis\")\n",
    "song = soup.select(\"div.ellipsis.rank01 > span > a\")\n",
    "\n",
    "singer_list = []\n",
    "song_list = []\n",
    "rank_list = []\n",
    "\n",
    "for i in range(len(singer)) :\n",
    "    singer_list.append(singer[i].text)\n",
    "    song_list.append(song[i].text)\n",
    "    rank_list.append(i+1)\n",
    "\n",
    "dic = {\"가수이름\":singer_list, \"노래제목\" : song_list, \"순위\" : rank_list}\n",
    "\n",
    "melon = pd.DataFrame(dic)\n",
    "\n",
    "melon.set_index(\"순위\", inplace= True)\n",
    "\n",
    "melon.to_csv(\"멜론차트.csv\", encoding=\"euc-kr\")"
   ]
  },
  {
   "cell_type": "markdown",
   "id": "9c9091fc",
   "metadata": {},
   "source": [
    "# 문제5\n",
    "자동제어를 통해 한솥 페이지에 접속하고 전체 메뉴의 메뉴명 가격정보를 수집할 수 있는 프로그램을 작성하세요 "
   ]
  },
  {
   "cell_type": "code",
   "execution_count": 7,
   "id": "a7ee4451",
   "metadata": {},
   "outputs": [
    {
     "name": "stdout",
     "output_type": "stream",
     "text": [
      "\n"
     ]
    },
    {
     "data": {
      "text/html": [
       "<div>\n",
       "<style scoped>\n",
       "    .dataframe tbody tr th:only-of-type {\n",
       "        vertical-align: middle;\n",
       "    }\n",
       "\n",
       "    .dataframe tbody tr th {\n",
       "        vertical-align: top;\n",
       "    }\n",
       "\n",
       "    .dataframe thead th {\n",
       "        text-align: right;\n",
       "    }\n",
       "</style>\n",
       "<table border=\"1\" class=\"dataframe\">\n",
       "  <thead>\n",
       "    <tr style=\"text-align: right;\">\n",
       "      <th></th>\n",
       "      <th>메뉴명</th>\n",
       "      <th>가격정보</th>\n",
       "    </tr>\n",
       "  </thead>\n",
       "  <tbody>\n",
       "    <tr>\n",
       "      <th>0</th>\n",
       "      <td>오리 영양도시락</td>\n",
       "      <td>6,900</td>\n",
       "    </tr>\n",
       "    <tr>\n",
       "      <th>1</th>\n",
       "      <td>통살 오징어튀김</td>\n",
       "      <td>2,900</td>\n",
       "    </tr>\n",
       "    <tr>\n",
       "      <th>2</th>\n",
       "      <td>열무 감초고추장 비빔밥</td>\n",
       "      <td>4,500</td>\n",
       "    </tr>\n",
       "    <tr>\n",
       "      <th>3</th>\n",
       "      <td>열무 두부강된장 비빔밥</td>\n",
       "      <td>4,900</td>\n",
       "    </tr>\n",
       "    <tr>\n",
       "      <th>4</th>\n",
       "      <td>[8월할인메뉴] 토네이도 소세지</td>\n",
       "      <td>1,000</td>\n",
       "    </tr>\n",
       "    <tr>\n",
       "      <th>...</th>\n",
       "      <td>...</td>\n",
       "      <td>...</td>\n",
       "    </tr>\n",
       "    <tr>\n",
       "      <th>106</th>\n",
       "      <td>무말랭이 무침</td>\n",
       "      <td>500</td>\n",
       "    </tr>\n",
       "    <tr>\n",
       "      <th>107</th>\n",
       "      <td>한솥밥</td>\n",
       "      <td>1,000</td>\n",
       "    </tr>\n",
       "    <tr>\n",
       "      <th>108</th>\n",
       "      <td>현미밥</td>\n",
       "      <td>1,700</td>\n",
       "    </tr>\n",
       "    <tr>\n",
       "      <th>109</th>\n",
       "      <td>리얼 티라미수 찰떡</td>\n",
       "      <td>1,700</td>\n",
       "    </tr>\n",
       "    <tr>\n",
       "      <th>110</th>\n",
       "      <td>리얼꿀 미니호떡</td>\n",
       "      <td>2,200</td>\n",
       "    </tr>\n",
       "  </tbody>\n",
       "</table>\n",
       "<p>111 rows × 2 columns</p>\n",
       "</div>"
      ],
      "text/plain": [
       "                   메뉴명   가격정보\n",
       "0             오리 영양도시락  6,900\n",
       "1             통살 오징어튀김  2,900\n",
       "2         열무 감초고추장 비빔밥  4,500\n",
       "3         열무 두부강된장 비빔밥  4,900\n",
       "4    [8월할인메뉴] 토네이도 소세지  1,000\n",
       "..                 ...    ...\n",
       "106            무말랭이 무침    500\n",
       "107                한솥밥  1,000\n",
       "108                현미밥  1,700\n",
       "109         리얼 티라미수 찰떡  1,700\n",
       "110           리얼꿀 미니호떡  2,200\n",
       "\n",
       "[111 rows x 2 columns]"
      ]
     },
     "execution_count": 7,
     "metadata": {},
     "output_type": "execute_result"
    }
   ],
   "source": [
    "from selenium import webdriver as wb\n",
    "from selenium.webdriver.common.by import By\n",
    "from selenium.webdriver.common.keys import Keys\n",
    "import time\n",
    "import pandas as pd\n",
    "\n",
    "driver = wb.Chrome()\n",
    "driver.get(\"https://www.hsd.co.kr/menu/menu_list\")\n",
    "time.sleep(1)\n",
    "try :\n",
    "    for i in range(5):\n",
    "        btn = driver.find_element(By.CSS_SELECTOR, \"a.c_05\")\n",
    "        btn.click()\n",
    "        time.sleep(1)\n",
    "except : \n",
    "    print(\"\")\n",
    "    \n",
    "title = driver.find_elements(By.CSS_SELECTOR, \".h.fz_03\")\n",
    "price = driver.find_elements(By.CSS_SELECTOR, \"div.item-price > Strong\")\n",
    "\n",
    "title_list = []\n",
    "price_list = []\n",
    "for i in range(len(title)) :\n",
    "    title_list.append(title[i].text)\n",
    "    price_list.append(price[i].text)\n",
    "\n",
    "dic = {\"메뉴명\" : title_list, \"가격정보\" : price_list}\n",
    "\n",
    "hansot = pd.DataFrame(dic)\n",
    "\n",
    "hansot.to_csv(\"한솥메뉴/가격.csv\", encoding = \"euc-kr\")\n",
    "driver.quit()\n",
    "\n",
    "hansot"
   ]
  }
 ],
 "metadata": {
  "kernelspec": {
   "display_name": "Python 3 (ipykernel)",
   "language": "python",
   "name": "python3"
  },
  "language_info": {
   "codemirror_mode": {
    "name": "ipython",
    "version": 3
   },
   "file_extension": ".py",
   "mimetype": "text/x-python",
   "name": "python",
   "nbconvert_exporter": "python",
   "pygments_lexer": "ipython3",
   "version": "3.11.3"
  }
 },
 "nbformat": 4,
 "nbformat_minor": 5
}
